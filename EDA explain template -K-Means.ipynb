{
 "cells": [
  {
   "cell_type": "code",
   "execution_count": 2,
   "id": "e69c4ba1-85f3-4a02-ae37-c64347a01803",
   "metadata": {},
   "outputs": [],
   "source": [
    "# To ignore warnings\n",
    "import warnings\n",
    "warnings.filterwarnings(\"ignore\")\n",
    "import pandas as pd\n",
    "import numpy as np\n",
    "import matplotlib.pyplot as plt\n",
    "import seaborn as sns\n",
    "\n",
    "from sklearn.model_selection import train_test_split, cross_val_score\n",
    "from sklearn.preprocessing import StandardScaler\n",
    "from sklearn.cluster import KMeans\n",
    "from sklearn.preprocessing import LabelEncoder\n",
    "\n",
    "from sklearn import metrics\n",
    "\n",
    "%matplotlib inline"
   ]
  },
  {
   "cell_type": "markdown",
   "id": "e395e8bf-b530-4720-8d0f-26811e927d6e",
   "metadata": {},
   "source": [
    "## Loading the data\n",
    "We can now load the dataset into pandas using the read_csv() function. This converts the CSV file into a Pandas dataframe."
   ]
  },
  {
   "cell_type": "code",
   "execution_count": 3,
   "id": "cf4030b0-aa7f-4bd7-8e9c-c1b7f4d202d0",
   "metadata": {},
   "outputs": [],
   "source": [
    "coursera = pd.read_csv(\"D:/Documents/Downloads/Project5/Usecase-8-Project-5/Usecase-8-Project-5/DATA/Coursera.csv\") "
   ]
  },
  {
   "cell_type": "markdown",
   "id": "ca5ed983-0f72-43eb-8168-6fafd48c562e",
   "metadata": {},
   "source": [
    "### Viewing the dataframe\n",
    "We can get a quick sense of the size of our dataset by using the shape method. This returns a tuple with the number of rows and columns in the dataset."
   ]
  },
  {
   "cell_type": "code",
   "execution_count": 38,
   "id": "bfde0b69-613c-4dd1-8ebf-e4d2e570e653",
   "metadata": {},
   "outputs": [
    {
     "data": {
      "text/html": [
       "<div>\n",
       "<style scoped>\n",
       "    .dataframe tbody tr th:only-of-type {\n",
       "        vertical-align: middle;\n",
       "    }\n",
       "\n",
       "    .dataframe tbody tr th {\n",
       "        vertical-align: top;\n",
       "    }\n",
       "\n",
       "    .dataframe thead th {\n",
       "        text-align: right;\n",
       "    }\n",
       "</style>\n",
       "<table border=\"1\" class=\"dataframe\">\n",
       "  <thead>\n",
       "    <tr style=\"text-align: right;\">\n",
       "      <th></th>\n",
       "      <th>Subject</th>\n",
       "      <th>Title</th>\n",
       "      <th>Institution</th>\n",
       "      <th>Learning Product</th>\n",
       "      <th>Level</th>\n",
       "      <th>Duration</th>\n",
       "      <th>Gained Skills</th>\n",
       "      <th>Rate</th>\n",
       "      <th>Reviews</th>\n",
       "    </tr>\n",
       "  </thead>\n",
       "  <tbody>\n",
       "    <tr>\n",
       "      <th>0</th>\n",
       "      <td>Business</td>\n",
       "      <td>Business Analysis &amp; Process Management</td>\n",
       "      <td>Coursera Project Network</td>\n",
       "      <td>Guided Project</td>\n",
       "      <td>Beginner</td>\n",
       "      <td>Less Than 2 Hours</td>\n",
       "      <td>Process Analysis, Business Process, Business A...</td>\n",
       "      <td>4.4</td>\n",
       "      <td>6100</td>\n",
       "    </tr>\n",
       "    <tr>\n",
       "      <th>1</th>\n",
       "      <td>Business</td>\n",
       "      <td>Getting Started with Microsoft Excel</td>\n",
       "      <td>Coursera Project Network</td>\n",
       "      <td>Guided Project</td>\n",
       "      <td>Intermediate</td>\n",
       "      <td>Less Than 2 Hours</td>\n",
       "      <td>Microsoft Excel, Excel Formulas, Spreadsheet S...</td>\n",
       "      <td>4.6</td>\n",
       "      <td>11000</td>\n",
       "    </tr>\n",
       "    <tr>\n",
       "      <th>2</th>\n",
       "      <td>Business</td>\n",
       "      <td>Financial Markets</td>\n",
       "      <td>Yale University</td>\n",
       "      <td>Course</td>\n",
       "      <td>Beginner</td>\n",
       "      <td>1 - 3 Months</td>\n",
       "      <td>Investment Banking, Risk Management, Financial...</td>\n",
       "      <td>4.8</td>\n",
       "      <td>30000</td>\n",
       "    </tr>\n",
       "    <tr>\n",
       "      <th>3</th>\n",
       "      <td>Business</td>\n",
       "      <td>Investment Risk Management</td>\n",
       "      <td>Coursera Project Network</td>\n",
       "      <td>Guided Project</td>\n",
       "      <td>Intermediate</td>\n",
       "      <td>Less Than 2 Hours</td>\n",
       "      <td>Investment Management, Risk Management, Financ...</td>\n",
       "      <td>4.4</td>\n",
       "      <td>1800</td>\n",
       "    </tr>\n",
       "    <tr>\n",
       "      <th>4</th>\n",
       "      <td>Business</td>\n",
       "      <td>Food &amp; Beverage Management</td>\n",
       "      <td>Università Bocconi</td>\n",
       "      <td>Course</td>\n",
       "      <td>Mixed</td>\n",
       "      <td>1 - 3 Months</td>\n",
       "      <td>Food and Beverage, Hospitality, Restaurant Man...</td>\n",
       "      <td>4.8</td>\n",
       "      <td>4800</td>\n",
       "    </tr>\n",
       "  </tbody>\n",
       "</table>\n",
       "</div>"
      ],
      "text/plain": [
       "    Subject                                   Title               Institution  \\\n",
       "0  Business  Business Analysis & Process Management  Coursera Project Network   \n",
       "1  Business    Getting Started with Microsoft Excel  Coursera Project Network   \n",
       "2  Business                       Financial Markets           Yale University   \n",
       "3  Business              Investment Risk Management  Coursera Project Network   \n",
       "4  Business              Food & Beverage Management        Università Bocconi   \n",
       "\n",
       "  Learning Product         Level           Duration  \\\n",
       "0   Guided Project      Beginner  Less Than 2 Hours   \n",
       "1   Guided Project  Intermediate  Less Than 2 Hours   \n",
       "2           Course      Beginner       1 - 3 Months   \n",
       "3   Guided Project  Intermediate  Less Than 2 Hours   \n",
       "4           Course         Mixed       1 - 3 Months   \n",
       "\n",
       "                                       Gained Skills  Rate  Reviews  \n",
       "0  Process Analysis, Business Process, Business A...   4.4     6100  \n",
       "1  Microsoft Excel, Excel Formulas, Spreadsheet S...   4.6    11000  \n",
       "2  Investment Banking, Risk Management, Financial...   4.8    30000  \n",
       "3  Investment Management, Risk Management, Financ...   4.4     1800  \n",
       "4  Food and Beverage, Hospitality, Restaurant Man...   4.8     4800  "
      ]
     },
     "execution_count": 38,
     "metadata": {},
     "output_type": "execute_result"
    }
   ],
   "source": [
    "pd.set_option('display.max_columns', None)\n",
    "coursera.head()"
   ]
  },
  {
   "cell_type": "code",
   "execution_count": 39,
   "id": "5e3e36c1",
   "metadata": {},
   "outputs": [
    {
     "data": {
      "text/plain": [
       "(3404, 9)"
      ]
     },
     "execution_count": 39,
     "metadata": {},
     "output_type": "execute_result"
    }
   ],
   "source": [
    "coursera.shape"
   ]
  },
  {
   "cell_type": "markdown",
   "id": "bd2b5bc4-db37-4432-b666-0714afd0c4ca",
   "metadata": {},
   "source": [
    "## 1. Data Profiling:\n",
    "Data profiling is a comprehensive process of examining the data available in an existing dataset and collecting statistics and information about that data. "
   ]
  },
  {
   "cell_type": "code",
   "execution_count": 40,
   "id": "672f2081-5a2c-4908-8cbd-29519fb3cac5",
   "metadata": {},
   "outputs": [
    {
     "data": {
      "text/html": [
       "<div>\n",
       "<style scoped>\n",
       "    .dataframe tbody tr th:only-of-type {\n",
       "        vertical-align: middle;\n",
       "    }\n",
       "\n",
       "    .dataframe tbody tr th {\n",
       "        vertical-align: top;\n",
       "    }\n",
       "\n",
       "    .dataframe thead th {\n",
       "        text-align: right;\n",
       "    }\n",
       "</style>\n",
       "<table border=\"1\" class=\"dataframe\">\n",
       "  <thead>\n",
       "    <tr style=\"text-align: right;\">\n",
       "      <th></th>\n",
       "      <th>Subject</th>\n",
       "      <th>Title</th>\n",
       "      <th>Institution</th>\n",
       "      <th>Learning Product</th>\n",
       "      <th>Level</th>\n",
       "      <th>Duration</th>\n",
       "      <th>Gained Skills</th>\n",
       "      <th>Rate</th>\n",
       "      <th>Reviews</th>\n",
       "    </tr>\n",
       "  </thead>\n",
       "  <tbody>\n",
       "    <tr>\n",
       "      <th>0</th>\n",
       "      <td>Business</td>\n",
       "      <td>Business Analysis &amp; Process Management</td>\n",
       "      <td>Coursera Project Network</td>\n",
       "      <td>Guided Project</td>\n",
       "      <td>Beginner</td>\n",
       "      <td>Less Than 2 Hours</td>\n",
       "      <td>Process Analysis, Business Process, Business A...</td>\n",
       "      <td>4.4</td>\n",
       "      <td>6100</td>\n",
       "    </tr>\n",
       "    <tr>\n",
       "      <th>1</th>\n",
       "      <td>Business</td>\n",
       "      <td>Getting Started with Microsoft Excel</td>\n",
       "      <td>Coursera Project Network</td>\n",
       "      <td>Guided Project</td>\n",
       "      <td>Intermediate</td>\n",
       "      <td>Less Than 2 Hours</td>\n",
       "      <td>Microsoft Excel, Excel Formulas, Spreadsheet S...</td>\n",
       "      <td>4.6</td>\n",
       "      <td>11000</td>\n",
       "    </tr>\n",
       "    <tr>\n",
       "      <th>2</th>\n",
       "      <td>Business</td>\n",
       "      <td>Financial Markets</td>\n",
       "      <td>Yale University</td>\n",
       "      <td>Course</td>\n",
       "      <td>Beginner</td>\n",
       "      <td>1 - 3 Months</td>\n",
       "      <td>Investment Banking, Risk Management, Financial...</td>\n",
       "      <td>4.8</td>\n",
       "      <td>30000</td>\n",
       "    </tr>\n",
       "    <tr>\n",
       "      <th>3</th>\n",
       "      <td>Business</td>\n",
       "      <td>Investment Risk Management</td>\n",
       "      <td>Coursera Project Network</td>\n",
       "      <td>Guided Project</td>\n",
       "      <td>Intermediate</td>\n",
       "      <td>Less Than 2 Hours</td>\n",
       "      <td>Investment Management, Risk Management, Financ...</td>\n",
       "      <td>4.4</td>\n",
       "      <td>1800</td>\n",
       "    </tr>\n",
       "    <tr>\n",
       "      <th>4</th>\n",
       "      <td>Business</td>\n",
       "      <td>Food &amp; Beverage Management</td>\n",
       "      <td>Università Bocconi</td>\n",
       "      <td>Course</td>\n",
       "      <td>Mixed</td>\n",
       "      <td>1 - 3 Months</td>\n",
       "      <td>Food and Beverage, Hospitality, Restaurant Man...</td>\n",
       "      <td>4.8</td>\n",
       "      <td>4800</td>\n",
       "    </tr>\n",
       "  </tbody>\n",
       "</table>\n",
       "</div>"
      ],
      "text/plain": [
       "    Subject                                   Title               Institution  \\\n",
       "0  Business  Business Analysis & Process Management  Coursera Project Network   \n",
       "1  Business    Getting Started with Microsoft Excel  Coursera Project Network   \n",
       "2  Business                       Financial Markets           Yale University   \n",
       "3  Business              Investment Risk Management  Coursera Project Network   \n",
       "4  Business              Food & Beverage Management        Università Bocconi   \n",
       "\n",
       "  Learning Product         Level           Duration  \\\n",
       "0   Guided Project      Beginner  Less Than 2 Hours   \n",
       "1   Guided Project  Intermediate  Less Than 2 Hours   \n",
       "2           Course      Beginner       1 - 3 Months   \n",
       "3   Guided Project  Intermediate  Less Than 2 Hours   \n",
       "4           Course         Mixed       1 - 3 Months   \n",
       "\n",
       "                                       Gained Skills  Rate  Reviews  \n",
       "0  Process Analysis, Business Process, Business A...   4.4     6100  \n",
       "1  Microsoft Excel, Excel Formulas, Spreadsheet S...   4.6    11000  \n",
       "2  Investment Banking, Risk Management, Financial...   4.8    30000  \n",
       "3  Investment Management, Risk Management, Financ...   4.4     1800  \n",
       "4  Food and Beverage, Hospitality, Restaurant Man...   4.8     4800  "
      ]
     },
     "execution_count": 40,
     "metadata": {},
     "output_type": "execute_result"
    }
   ],
   "source": [
    "coursera.head()"
   ]
  },
  {
   "cell_type": "code",
   "execution_count": 41,
   "id": "bf5eb315",
   "metadata": {},
   "outputs": [
    {
     "data": {
      "text/plain": [
       "Index(['Subject', 'Title', 'Institution', 'Learning Product', 'Level',\n",
       "       'Duration', 'Gained Skills', 'Rate', 'Reviews'],\n",
       "      dtype='object')"
      ]
     },
     "execution_count": 41,
     "metadata": {},
     "output_type": "execute_result"
    }
   ],
   "source": [
    "coursera.columns"
   ]
  },
  {
   "cell_type": "code",
   "execution_count": 42,
   "id": "aeed521a",
   "metadata": {},
   "outputs": [
    {
     "name": "stdout",
     "output_type": "stream",
     "text": [
      "<class 'pandas.core.frame.DataFrame'>\n",
      "RangeIndex: 3404 entries, 0 to 3403\n",
      "Data columns (total 9 columns):\n",
      " #   Column            Non-Null Count  Dtype  \n",
      "---  ------            --------------  -----  \n",
      " 0   Subject           3404 non-null   object \n",
      " 1   Title             3404 non-null   object \n",
      " 2   Institution       3404 non-null   object \n",
      " 3   Learning Product  3404 non-null   object \n",
      " 4   Level             3404 non-null   object \n",
      " 5   Duration          3404 non-null   object \n",
      " 6   Gained Skills     3404 non-null   object \n",
      " 7   Rate              3404 non-null   float64\n",
      " 8   Reviews           3404 non-null   int64  \n",
      "dtypes: float64(1), int64(1), object(7)\n",
      "memory usage: 239.5+ KB\n"
     ]
    }
   ],
   "source": [
    "coursera.info()"
   ]
  },
  {
   "cell_type": "code",
   "execution_count": 43,
   "id": "a2532272",
   "metadata": {},
   "outputs": [
    {
     "data": {
      "text/html": [
       "<div>\n",
       "<style scoped>\n",
       "    .dataframe tbody tr th:only-of-type {\n",
       "        vertical-align: middle;\n",
       "    }\n",
       "\n",
       "    .dataframe tbody tr th {\n",
       "        vertical-align: top;\n",
       "    }\n",
       "\n",
       "    .dataframe thead th {\n",
       "        text-align: right;\n",
       "    }\n",
       "</style>\n",
       "<table border=\"1\" class=\"dataframe\">\n",
       "  <thead>\n",
       "    <tr style=\"text-align: right;\">\n",
       "      <th></th>\n",
       "      <th>Subject</th>\n",
       "      <th>Title</th>\n",
       "      <th>Institution</th>\n",
       "      <th>Learning Product</th>\n",
       "      <th>Level</th>\n",
       "      <th>Duration</th>\n",
       "      <th>Gained Skills</th>\n",
       "    </tr>\n",
       "  </thead>\n",
       "  <tbody>\n",
       "    <tr>\n",
       "      <th>count</th>\n",
       "      <td>3404</td>\n",
       "      <td>3404</td>\n",
       "      <td>3404</td>\n",
       "      <td>3404</td>\n",
       "      <td>3404</td>\n",
       "      <td>3404</td>\n",
       "      <td>3404</td>\n",
       "    </tr>\n",
       "    <tr>\n",
       "      <th>unique</th>\n",
       "      <td>4</td>\n",
       "      <td>2753</td>\n",
       "      <td>208</td>\n",
       "      <td>5</td>\n",
       "      <td>4</td>\n",
       "      <td>4</td>\n",
       "      <td>2762</td>\n",
       "    </tr>\n",
       "    <tr>\n",
       "      <th>top</th>\n",
       "      <td>Business</td>\n",
       "      <td>Business Analytics</td>\n",
       "      <td>IBM</td>\n",
       "      <td>Course</td>\n",
       "      <td>Beginner</td>\n",
       "      <td>1 - 4 Weeks</td>\n",
       "      <td>Data Storytelling, Feature Engineering, Superv...</td>\n",
       "    </tr>\n",
       "    <tr>\n",
       "      <th>freq</th>\n",
       "      <td>973</td>\n",
       "      <td>6</td>\n",
       "      <td>251</td>\n",
       "      <td>2553</td>\n",
       "      <td>1741</td>\n",
       "      <td>1415</td>\n",
       "      <td>2</td>\n",
       "    </tr>\n",
       "  </tbody>\n",
       "</table>\n",
       "</div>"
      ],
      "text/plain": [
       "         Subject               Title Institution Learning Product     Level  \\\n",
       "count       3404                3404        3404             3404      3404   \n",
       "unique         4                2753         208                5         4   \n",
       "top     Business  Business Analytics         IBM           Course  Beginner   \n",
       "freq         973                   6         251             2553      1741   \n",
       "\n",
       "           Duration                                      Gained Skills  \n",
       "count          3404                                               3404  \n",
       "unique            4                                               2762  \n",
       "top     1 - 4 Weeks  Data Storytelling, Feature Engineering, Superv...  \n",
       "freq           1415                                                  2  "
      ]
     },
     "execution_count": 43,
     "metadata": {},
     "output_type": "execute_result"
    }
   ],
   "source": [
    "coursera.describe(include=\"object\")"
   ]
  },
  {
   "cell_type": "code",
   "execution_count": 44,
   "id": "dc85a53d",
   "metadata": {},
   "outputs": [
    {
     "data": {
      "text/html": [
       "<div>\n",
       "<style scoped>\n",
       "    .dataframe tbody tr th:only-of-type {\n",
       "        vertical-align: middle;\n",
       "    }\n",
       "\n",
       "    .dataframe tbody tr th {\n",
       "        vertical-align: top;\n",
       "    }\n",
       "\n",
       "    .dataframe thead th {\n",
       "        text-align: right;\n",
       "    }\n",
       "</style>\n",
       "<table border=\"1\" class=\"dataframe\">\n",
       "  <thead>\n",
       "    <tr style=\"text-align: right;\">\n",
       "      <th></th>\n",
       "      <th>Rate</th>\n",
       "      <th>Reviews</th>\n",
       "    </tr>\n",
       "  </thead>\n",
       "  <tbody>\n",
       "    <tr>\n",
       "      <th>count</th>\n",
       "      <td>3404.000000</td>\n",
       "      <td>3404.000000</td>\n",
       "    </tr>\n",
       "    <tr>\n",
       "      <th>mean</th>\n",
       "      <td>4.560076</td>\n",
       "      <td>3282.244712</td>\n",
       "    </tr>\n",
       "    <tr>\n",
       "      <th>std</th>\n",
       "      <td>0.316573</td>\n",
       "      <td>13121.984564</td>\n",
       "    </tr>\n",
       "    <tr>\n",
       "      <th>min</th>\n",
       "      <td>1.900000</td>\n",
       "      <td>6.000000</td>\n",
       "    </tr>\n",
       "    <tr>\n",
       "      <th>25%</th>\n",
       "      <td>4.500000</td>\n",
       "      <td>61.000000</td>\n",
       "    </tr>\n",
       "    <tr>\n",
       "      <th>50%</th>\n",
       "      <td>4.600000</td>\n",
       "      <td>322.000000</td>\n",
       "    </tr>\n",
       "    <tr>\n",
       "      <th>75%</th>\n",
       "      <td>4.700000</td>\n",
       "      <td>1600.000000</td>\n",
       "    </tr>\n",
       "    <tr>\n",
       "      <th>max</th>\n",
       "      <td>5.000000</td>\n",
       "      <td>277000.000000</td>\n",
       "    </tr>\n",
       "  </tbody>\n",
       "</table>\n",
       "</div>"
      ],
      "text/plain": [
       "              Rate        Reviews\n",
       "count  3404.000000    3404.000000\n",
       "mean      4.560076    3282.244712\n",
       "std       0.316573   13121.984564\n",
       "min       1.900000       6.000000\n",
       "25%       4.500000      61.000000\n",
       "50%       4.600000     322.000000\n",
       "75%       4.700000    1600.000000\n",
       "max       5.000000  277000.000000"
      ]
     },
     "execution_count": 44,
     "metadata": {},
     "output_type": "execute_result"
    }
   ],
   "source": [
    "coursera.describe(include=\"number\")"
   ]
  },
  {
   "cell_type": "markdown",
   "id": "834929aa-fd6a-4ec5-84d4-77c4b3c1a506",
   "metadata": {},
   "source": [
    "The process of profiling differs slightly for categorical and numerical variables due to their inherent differences.\n",
    "\n",
    "**The two main types of data are:**\n",
    "- Quantitative (numerical) data\n",
    "- Qualitative (categorical) data"
   ]
  },
  {
   "cell_type": "markdown",
   "id": "3a9954f5-6fbc-45b4-ad86-3e21b6e0ca2d",
   "metadata": {},
   "source": [
    "### Data Quality Checks\n",
    "Data quality checks involve the process of ensuring that the data is accurate, complete, consistent, relevant, and reliable. \n",
    "\n",
    "\n",
    "**Here are typical steps involved in checking data quality:**"
   ]
  },
  {
   "cell_type": "markdown",
   "id": "4818c876-173d-4e56-9e7d-b4334d2def25",
   "metadata": {},
   "source": [
    "#### 1. Reliability:\n",
    "Evaluate the data's source and collection process to determine its trustworthiness."
   ]
  },
  {
   "cell_type": "code",
   "execution_count": 45,
   "id": "9034ae7b-dc1d-4cba-8f9e-bb499d021cde",
   "metadata": {},
   "outputs": [],
   "source": [
    "# This dataset was generated by scraping data from Transfermarkt and it is from Kaggle Football Dataset (https://www.kaggle.com/datasets/khanghunhnguyntrng/football-players-transfer-fee-prediction-dataset?resource=download)"
   ]
  },
  {
   "cell_type": "markdown",
   "id": "2ce0cc59-8c92-4acc-8d07-c40764e1a86b",
   "metadata": {},
   "source": [
    "#### 2. Timeliness: \n",
    "Ensure the data is up-to-date and reflective of the current situation or the period of interest for the analysis."
   ]
  },
  {
   "cell_type": "code",
   "execution_count": 46,
   "id": "4b78ae35-7226-4cb6-b8b2-a46c2ed17cf9",
   "metadata": {},
   "outputs": [],
   "source": [
    "# The data was published on June 10, 2023."
   ]
  },
  {
   "cell_type": "markdown",
   "id": "7fab0fe2-6624-4615-b9d8-3c3669056bf8",
   "metadata": {},
   "source": [
    "#### 3. Consistency: \n",
    "\n",
    "Confirm that the data is consistent within the dataset and across multiple data sources. For example, the same data point should not have different values in different places.\n"
   ]
  },
  {
   "cell_type": "code",
   "execution_count": 47,
   "id": "7fecc573-959f-4800-8ddd-a67985c68b18",
   "metadata": {},
   "outputs": [],
   "source": [
    "# The use of a single dataset guarantees consistency from the outset"
   ]
  },
  {
   "cell_type": "markdown",
   "id": "bec3d183-bba0-4b12-b963-487daab1e876",
   "metadata": {},
   "source": [
    "#### 4. Relevance: \n",
    "Assess whether the data is appropriate and applicable for the intended analysis. Data that is not relevant can skew results and lead to incorrect conclusions.\n",
    "\n",
    "**Key considerations for relevance include:**\n",
    "\n",
    "> 1. Sample Appropriateness: Confirm that your data sample aligns with your analysis objectives. For instance, utilizing data from the Northern region will not yield accurate insights for the Western region of the Kingdom.\n",
    ">\n",
    "> 2. Variable Selection: Any column will not be relevant for our analysis, we can get rid of these using the drop() method. We will set the “axis” argument to 1 since we’re dealing with columns, and set the “inplace” argument to True to make the change permanent.\n"
   ]
  },
  {
   "cell_type": "code",
   "execution_count": 48,
   "id": "50a934b7-a0cd-443f-8a27-f10e9a6e8647",
   "metadata": {
    "scrolled": true
   },
   "outputs": [
    {
     "data": {
      "text/html": [
       "<div>\n",
       "<style scoped>\n",
       "    .dataframe tbody tr th:only-of-type {\n",
       "        vertical-align: middle;\n",
       "    }\n",
       "\n",
       "    .dataframe tbody tr th {\n",
       "        vertical-align: top;\n",
       "    }\n",
       "\n",
       "    .dataframe thead th {\n",
       "        text-align: right;\n",
       "    }\n",
       "</style>\n",
       "<table border=\"1\" class=\"dataframe\">\n",
       "  <thead>\n",
       "    <tr style=\"text-align: right;\">\n",
       "      <th></th>\n",
       "      <th>Subject</th>\n",
       "      <th>Title</th>\n",
       "      <th>Institution</th>\n",
       "      <th>Learning Product</th>\n",
       "      <th>Level</th>\n",
       "      <th>Duration</th>\n",
       "      <th>Gained Skills</th>\n",
       "      <th>Rate</th>\n",
       "      <th>Reviews</th>\n",
       "    </tr>\n",
       "  </thead>\n",
       "  <tbody>\n",
       "    <tr>\n",
       "      <th>0</th>\n",
       "      <td>Business</td>\n",
       "      <td>Business Analysis &amp; Process Management</td>\n",
       "      <td>Coursera Project Network</td>\n",
       "      <td>Guided Project</td>\n",
       "      <td>Beginner</td>\n",
       "      <td>Less Than 2 Hours</td>\n",
       "      <td>Process Analysis, Business Process, Business A...</td>\n",
       "      <td>4.4</td>\n",
       "      <td>6100</td>\n",
       "    </tr>\n",
       "    <tr>\n",
       "      <th>1</th>\n",
       "      <td>Business</td>\n",
       "      <td>Getting Started with Microsoft Excel</td>\n",
       "      <td>Coursera Project Network</td>\n",
       "      <td>Guided Project</td>\n",
       "      <td>Intermediate</td>\n",
       "      <td>Less Than 2 Hours</td>\n",
       "      <td>Microsoft Excel, Excel Formulas, Spreadsheet S...</td>\n",
       "      <td>4.6</td>\n",
       "      <td>11000</td>\n",
       "    </tr>\n",
       "  </tbody>\n",
       "</table>\n",
       "</div>"
      ],
      "text/plain": [
       "    Subject                                   Title               Institution  \\\n",
       "0  Business  Business Analysis & Process Management  Coursera Project Network   \n",
       "1  Business    Getting Started with Microsoft Excel  Coursera Project Network   \n",
       "\n",
       "  Learning Product         Level           Duration  \\\n",
       "0   Guided Project      Beginner  Less Than 2 Hours   \n",
       "1   Guided Project  Intermediate  Less Than 2 Hours   \n",
       "\n",
       "                                       Gained Skills  Rate  Reviews  \n",
       "0  Process Analysis, Business Process, Business A...   4.4     6100  \n",
       "1  Microsoft Excel, Excel Formulas, Spreadsheet S...   4.6    11000  "
      ]
     },
     "execution_count": 48,
     "metadata": {},
     "output_type": "execute_result"
    }
   ],
   "source": [
    "coursera.head(2)"
   ]
  },
  {
   "cell_type": "markdown",
   "id": "0f5e3a2a-bbb7-4d06-8220-c93277b70146",
   "metadata": {},
   "source": [
    "#### 5. Uniqueness: \n",
    "Check for and remove duplicate records to prevent skewed analysis results.\n"
   ]
  },
  {
   "cell_type": "code",
   "execution_count": 49,
   "id": "a509a7aa-58f4-4d39-8eb8-e8298a21f2a7",
   "metadata": {},
   "outputs": [
    {
     "data": {
      "text/html": [
       "<div>\n",
       "<style scoped>\n",
       "    .dataframe tbody tr th:only-of-type {\n",
       "        vertical-align: middle;\n",
       "    }\n",
       "\n",
       "    .dataframe tbody tr th {\n",
       "        vertical-align: top;\n",
       "    }\n",
       "\n",
       "    .dataframe thead th {\n",
       "        text-align: right;\n",
       "    }\n",
       "</style>\n",
       "<table border=\"1\" class=\"dataframe\">\n",
       "  <thead>\n",
       "    <tr style=\"text-align: right;\">\n",
       "      <th></th>\n",
       "      <th>Subject</th>\n",
       "      <th>Title</th>\n",
       "      <th>Institution</th>\n",
       "      <th>Learning Product</th>\n",
       "      <th>Level</th>\n",
       "      <th>Duration</th>\n",
       "      <th>Gained Skills</th>\n",
       "      <th>Rate</th>\n",
       "      <th>Reviews</th>\n",
       "    </tr>\n",
       "  </thead>\n",
       "  <tbody>\n",
       "  </tbody>\n",
       "</table>\n",
       "</div>"
      ],
      "text/plain": [
       "Empty DataFrame\n",
       "Columns: [Subject, Title, Institution, Learning Product, Level, Duration, Gained Skills, Rate, Reviews]\n",
       "Index: []"
      ]
     },
     "execution_count": 49,
     "metadata": {},
     "output_type": "execute_result"
    }
   ],
   "source": [
    "coursera[coursera.duplicated(keep=False)]"
   ]
  },
  {
   "cell_type": "markdown",
   "id": "c7724ac2-4ea2-4cf4-a9e0-e64368f87b92",
   "metadata": {},
   "source": [
    "#### 6. Completeness: \n",
    "Ensure that no critical data is missing. This might mean checking for null values or required fields that are empty.\n",
    "\n",
    "We will start by checking the dataset for missing or null values. For this, we can use the isna() method which returns a dataframe of boolean values indicating if a field is null or not. To group all missing values by column, we can include the sum() method."
   ]
  },
  {
   "cell_type": "code",
   "execution_count": 50,
   "id": "48a4de54-a344-4b94-9908-9528c15c13f7",
   "metadata": {},
   "outputs": [
    {
     "data": {
      "text/plain": [
       "Subject             0\n",
       "Title               0\n",
       "Institution         0\n",
       "Learning Product    0\n",
       "Level               0\n",
       "Duration            0\n",
       "Gained Skills       0\n",
       "Rate                0\n",
       "Reviews             0\n",
       "dtype: int64"
      ]
     },
     "execution_count": 50,
     "metadata": {},
     "output_type": "execute_result"
    }
   ],
   "source": [
    "coursera.isnull().sum().sort_values(ascending = False)\n"
   ]
  },
  {
   "cell_type": "markdown",
   "id": "b40de63c-5a1d-49ed-a87e-c5229ee08bbe",
   "metadata": {},
   "source": [
    "#### 7. Check Accuracy:\n",
    "\n",
    "Verify that the data is correct and precise. This could involve comparing data samples with known sources or using validation rules.\n",
    "\n",
    "**The process includes:**\n",
    "1. Validating the appropriateness of data types for the dataset.\n",
    "2. Identifying outliers  using established validation  rule"
   ]
  },
  {
   "cell_type": "code",
   "execution_count": 51,
   "id": "68be5334-ae10-4abd-8097-3259fe5e72c8",
   "metadata": {},
   "outputs": [
    {
     "data": {
      "text/plain": [
       "Subject              object\n",
       "Title                object\n",
       "Institution          object\n",
       "Learning Product     object\n",
       "Level                object\n",
       "Duration             object\n",
       "Gained Skills        object\n",
       "Rate                float64\n",
       "Reviews               int64\n",
       "dtype: object"
      ]
     },
     "execution_count": 51,
     "metadata": {},
     "output_type": "execute_result"
    }
   ],
   "source": [
    "coursera.dtypes"
   ]
  },
  {
   "cell_type": "markdown",
   "id": "4aca9d42-add6-45db-92cf-1f6dae5f277b",
   "metadata": {},
   "source": [
    "**What is an Outlier?** \n",
    "Outlier is an row/observation that appears far away and diverges from an overall pattern in a sample.\n",
    "\n",
    "**What are the types of Outliers?**\n",
    "1. Univariate: These outliers can be found when we look at distribution of a single variable\n",
    "2. Multivariate: are outliers in an n-dimensional space. In order to find them, you have to look at distributions in multi-dimensions. example (hight=100, weight=100) for a person\n",
    "\n",
    "**What causes Outliers?**\n",
    "Whenever we come across outliers, the ideal way to tackle them is to find out the reason of having these outliers. The method to deal with them would then depend on the reason of their occurrence.\n",
    "\n",
    "Let’s understand various types of outliers:\n",
    "\n",
    "1. Data Entry Errors:- Human errors such as errors caused during data collection, recording, or entry can cause outliers in data.\n",
    "2. Measurement Error: It is the most common source of outliers. This is caused when the measurement instrument used turns out to be faulty.\n",
    "3. Data Processing Error: Whenever we perform data mining, we extract data from multiple sources. It is possible that some manipulation or extraction errors may lead to outliers in the dataset.\n",
    "4. Sampling error: For instance, we have to measure the height of athletes. By mistake, we include a few basketball players in the sample. This inclusion is likely to cause outliers in the dataset.\n",
    "5. Natural Outlier: When an outlier is not artificial (due to error), it is a natural outlier. For instance: In my last assignment with one of the renowned insurance company, I noticed that the performance of top 50 financial advisors was far higher than rest of the population. Surprisingly, it was not due to any error. Hence, whenever we perform any data mining activity with advisors, we used to treat this segment separately.\n",
    "\n",
    "\n",
    "**What is the impact of Outliers on a dataset?**\n",
    "\n",
    "\n",
    "![image.png](https://www.analyticsvidhya.com/wp-content/uploads/2015/02/Outlier_31.png)\n",
    "\n",
    "\n",
    "\n",
    "**How to detect Outliers?**\n",
    "\n",
    "1. Most commonly used method to detect outliers is visualization (Univariate Graphical Analysis).\n",
    "\n",
    "We use 3 common visualization methods:\n",
    ">- Box-plot: A box plot is a method for graphically depicting groups of numerical data through their quartiles. The box extends from the Q1 to Q3 quartile values of the data, with a line at the median (Q2). The whiskers extend from the edges of the box to show the range of the data. Outlier points are those past the end of the whiskers. Box plots show robust measures of location and spread as well as providing information about symmetry and outliers.\n",
    ">\n",
    ">  \n",
    ">![image.png](https://miro.medium.com/v2/resize:fit:698/format:webp/1*VK5iHA2AB28HSZwWwUbNYg.png)\n",
    ">\n",
    ">\n",
    ">- Histogram\n",
    ">- Scatter Plot: A scatter plot is a mathematical diagram using Cartesian coordinates to display values for two variables for a set of data. The data are displayed as a collection of points, each having the value of one variable determining the position on the horizontal axis and the value of the other variable determining the position on the vertical axis. The points that are far from the population can be termed as an outlier.\n",
    ">\n",
    ">  \n",
    ">![image.png](https://miro.medium.com/v2/resize:fit:4800/format:webp/1*Ov6aH-8yIwNoUxtMFwgx4g.png)\n",
    ">\n",
    ">\n",
    "\n",
    "2. Using statistical method (Univariate Non-Graphical analysis):\n",
    ">- Any value, which is beyond the range of -1.5 x IQR to 1.5 x IQR\n",
    " \n",
    "![image.png](https://www.whatissixsigma.net/wp-content/uploads/2015/07/Box-Plot-Diagram-to-identify-Outliers-figure-1.png)\n",
    "\n",
    ">- Use capping methods. Any value which out of range of 5th and 95th percentile can be considered as outlier\n",
    ">- Data points, three or more standard deviation away from mean are considered outlier: The Z-score is the signed number of standard deviations by which the value of an observation or data point is above the mean value of what is being observed or measured. While calculating the Z-score we re-scale and center the data and look for data points that are too far from zero. These data points which are way too far from zero will be treated as the outliers. In most of the cases, a threshold of 3 or -3 is used i.e if the Z-score value is greater than or less than 3 or -3 respectively, that data point will be identified as outliers.\n",
    "> - Outlier detection is merely a special case of the examination of data for influential data points and it also depends on the business understanding\n"
   ]
  },
  {
   "cell_type": "code",
   "execution_count": 52,
   "id": "5790519f",
   "metadata": {},
   "outputs": [
    {
     "data": {
      "text/plain": [
       "<Figure size 1500x800 with 0 Axes>"
      ]
     },
     "metadata": {},
     "output_type": "display_data"
    },
    {
     "data": {
      "image/png": "[encoded data removed]",
      "text/plain": [
       "<Figure size 1000x400 with 1 Axes>"
      ]
     },
     "metadata": {},
     "output_type": "display_data"
    },
    {
     "data": {
      "image/png": "[encoded data removed]",
      "text/plain": [
       "<Figure size 1000x400 with 1 Axes>"
      ]
     },
     "metadata": {},
     "output_type": "display_data"
    }
   ],
   "source": [
    "import matplotlib.pyplot as plt\n",
    "import seaborn as sns\n",
    "\n",
    "# Select only numerical columns\n",
    "numerical_columns = coursera.select_dtypes(include=['float64', 'int64']).columns\n",
    "\n",
    "# Histogram for all numerical columns\n",
    "plt.figure(figsize=(15, 8))\n",
    "\n",
    "for col in numerical_columns:\n",
    "    plt.figure(figsize=(10, 4))\n",
    "    sns.histplot(coursera[col], bins=30, kde=True)\n",
    "    plt.title(f\"Histogram of {col}\")\n",
    "    plt.xlabel(col)\n",
    "    plt.ylabel(\"Frequency\")\n",
    "    plt.show()\n"
   ]
  },
  {
   "cell_type": "code",
   "execution_count": 53,
   "id": "74ea6194-cc01-45d8-be38-c4543eb1714e",
   "metadata": {},
   "outputs": [],
   "source": [
    "# go to univariate graphical analysis\n",
    "# go to lesson : data visualisation 1 - chart type section\n",
    "# then go to univariate graphical analysis\n",
    "# detect outliers using graphs varbaly"
   ]
  },
  {
   "cell_type": "code",
   "execution_count": 54,
   "id": "48ecf77b-480c-4f64-9485-95be805bc357",
   "metadata": {},
   "outputs": [],
   "source": [
    "# go to lesson: statistics 1 then statistics 3\n",
    "# then go to univariate Non graphical analysis\n",
    "# detect outliers using numerical statistics "
   ]
  },
  {
   "attachments": {},
   "cell_type": "markdown",
   "id": "4e886ec7-388c-414b-ada7-803c2fb1f2cb",
   "metadata": {},
   "source": [
    "## 2. Data Cleaning: \n",
    "\n",
    "Preliminary findings from data profiling can lead to cleaning the data by:\n",
    "- Handling missing values\n",
    "- Correcting errors.\n",
    "- Dealing with outliers.\n",
    "\n",
    "-------------------\n",
    "\n"
   ]
  },
  {
   "cell_type": "markdown",
   "id": "21876b48-f5ec-4970-85a9-0520d45d8841",
   "metadata": {},
   "source": [
    "### Handling missing values:"
   ]
  },
  {
   "cell_type": "markdown",
   "id": "c890d5a2-2a65-4090-9427-f89c0f011d3f",
   "metadata": {},
   "source": [
    "**Why my data has missing values?**\n",
    "They may occur at two stages:\n",
    "1. Data Extraction: It is possible that there are problems with extraction process. Errors at data extraction stage are typically easy to find and can be corrected easily as well.\n",
    "2. Data collection: These errors occur at time of data collection and are harder to correct.\n",
    "\n",
    "**Why do we need to handle the missing data?**\n",
    "To avoid:\n",
    "- Bias the conclusions.\n",
    "- Leading the business to make wrong decisions.\n",
    "\n",
    "**Which are the methods to treat missing values ?**\n",
    "1. Deletion: we delete rows where any of the variable is missing. Simplicity is one of the major advantage of this method, but this method reduces the power of model because it reduces the sample size.\n",
    "\n",
    "2. Imputation: is a method to fill in the missing values with estimated ones. This imputation is one of the most frequently used methods.\n",
    "\n",
    "    2.1. Mean/ Mode/ Median Imputation: It consists of replacing the missing data for a given attribute by the mean or median (quantitative attribute) or mode (qualitative attribute) of all known values of that variable.\n",
    "    > It can be of two types:\n",
    "    > - Generalized Imputation: In this case, we calculate the mean or median for all non missing values of that variable then replace missing value with mean or median.\n",
    "    > - Similar case Imputation: In this case, we calculate average for each group individually of non missing values then replace the missing value based on the group.\n",
    "\n",
    "    2.2. Constant Value\n",
    "   \n",
    "    2.3. Forward Filling\n",
    "   \n",
    "    2.4. Backward Filling\n",
    "\n",
    "6. Prediction Model:  Prediction model is one of the sophisticated method for handling missing data. Here, we create a predictive model to estimate values that will substitute the missing data.  In this case, we divide our data set into two sets: One set with no missing values for the variable and another one with missing values. First data set become training data set of the model while second data set with missing values is test data set and variable with missing values is treated as target variable. Next, we create a model to predict target variable based on other attributes of the training data set and populate missing values of test data set.\n",
    "\n",
    "> There are 2 drawbacks for this approach:\n",
    "> - The model estimated values are usually more well-behaved than the true values\n",
    "> - If there are no relationships with attributes in the data set and the attribute with missing values, then the model will not be precise for estimating missing values.\n",
    "\n",
    "9. KNN Imputation: In this method of imputation, the missing values of an attribute are imputed using the given number of attributes that are most similar to the attribute whose values are missing. The similarity of two attributes is determined using a distance function. It is also known to have certain advantage & disadvantages.\n",
    "\n",
    "   > **Advantages:**\n",
    "   > - k-nearest neighbour can predict both qualitative & quantitative attributes\n",
    "   > - Creation of predictive model for each attribute with missing data is not required\n",
    "   > - Attributes with multiple missing values can be easily treated\n",
    "   > - Correlation structure of the data is taken into consideration\n",
    "\n",
    "   > **Disadvantage:**\n",
    "   > - KNN algorithm is very time-consuming in analyzing large database. It searches through all the dataset looking for the most similar instances.\n",
    "   > - Choice of k-value is very critical. Higher value of k would include attributes which are significantly different from what we need whereas lower value of k implies missing out of significant attributes.\n",
    "\n",
    "--------------------\n"
   ]
  },
  {
   "cell_type": "code",
   "execution_count": 55,
   "id": "a5503f6c",
   "metadata": {},
   "outputs": [
    {
     "name": "stdout",
     "output_type": "stream",
     "text": [
      "Value counts for Subject:\n",
      "Subject\n",
      "Business                  973\n",
      "Computer Science          925\n",
      "Data Science              865\n",
      "Information Technology    641\n",
      "Name: count, dtype: int64\n",
      "\n",
      "Value counts for Title:\n",
      "Title\n",
      "Business Analytics                                                       6\n",
      "Data Visualization with Tableau                                          5\n",
      "Bayesian Statistics                                                      4\n",
      "Exploratory Data Analysis                                                4\n",
      "Data Storytelling                                                        4\n",
      "                                                                        ..\n",
      "Inove na gestão de equipes e negócios: O crescimento da empresa          1\n",
      "The Measure Phase for the 6 σ Black Belt                                 1\n",
      "Engineering Project Management: Risk, Quality, Teams, and Procurement    1\n",
      "AI Ethics in Business                                                    1\n",
      "Predictive Modeling and Analytics                                        1\n",
      "Name: count, Length: 2753, dtype: int64\n",
      "\n",
      "Value counts for Institution:\n",
      "Institution\n",
      "IBM                                        251\n",
      "Coursera Project Network                   153\n",
      "University of Michigan                     139\n",
      "University of Colorado Boulder             130\n",
      "University of Illinois Urbana-Champaign    115\n",
      "                                          ... \n",
      "Snowflake                                    1\n",
      "ConsenSys Academy                            1\n",
      "JetBrains                                    1\n",
      "Amazon                                       1\n",
      "MongoDB Inc.                                 1\n",
      "Name: count, Length: 208, dtype: int64\n",
      "\n",
      "Value counts for Learning Product:\n",
      "Learning Product\n",
      "Course                      2553\n",
      "Specialization               568\n",
      "Guided Project               154\n",
      "Professional Certificate     121\n",
      "Project                        8\n",
      "Name: count, dtype: int64\n",
      "\n",
      "Value counts for Level:\n",
      "Level\n",
      "Beginner        1741\n",
      "Intermediate    1148\n",
      "Mixed            370\n",
      "Advanced         145\n",
      "Name: count, dtype: int64\n",
      "\n",
      "Value counts for Duration:\n",
      "Duration\n",
      "1 - 4 Weeks          1415\n",
      "1 - 3 Months         1237\n",
      "3 - 6 Months          590\n",
      "Less Than 2 Hours     162\n",
      "Name: count, dtype: int64\n",
      "\n",
      "Value counts for Gained Skills:\n",
      "Gained Skills\n",
      "Data Storytelling, Feature Engineering, Supervised Learning, Dimensionality Reduction, Data Integration, Interactive Data Visualization, Exploratory Data Analysis, Data Import/Export, Technical Communication, Data Analysis, Applied Machine Learning, Data Visualization Software, Matlab, Regression Analysis, Data Processing, Descriptive Statistics, Data Cleansing, Predictive Modeling, Classification And Regression Tree (CART), Data Science    2\n",
      "Statistical Methods, Regression Analysis, Data Cleansing, Statistical Hypothesis Testing, Correlation Analysis, Matplotlib, Data Visualization, Statistical Analysis, Probability & Statistics, R Programming, Data Analysis, Descriptive Statistics, Pandas (Python Package), Python Programming                                                                                                                                                            2\n",
      "Professional Networking, Interviewing Skills, LinkedIn, Professional Development, Data Analysis, Recruitment, Relationship Building, Presentations, Job Analysis, Analytics, Business Writing, Performance Analysis                                                                                                                                                                                                                                          2\n",
      "Bioinformatics, Computational Thinking, Data Structures, Python Programming, Data Analysis, Algorithms, Life Sciences, Programming Principles, Computer Programming                                                                                                                                                                                                                                                                                          2\n",
      "ChatGPT, Generative AI, OpenAI, PyTorch (Machine Learning Library), Tensorflow, Performance Tuning, Reinforcement Learning, Artificial Intelligence, Natural Language Processing, Machine Learning                                                                                                                                                                                                                                                           2\n",
      "                                                                                                                                                                                                                                                                                                                                                                                                                                                            ..\n",
      "Marketing Analytics, Analytical Skills, Data Analysis, Data Collection, Marketing, Marketing Strategies, Quantitative Research, Market Research, Customer Insights, Data-Driven Decision-Making, Market Data, Consumer Behaviour, Business Metrics, Target Audience, Brand Strategy                                                                                                                                                                          1\n",
      "Business Writing, Business Correspondence, Concision, Editing, Grammar, Proofreading, Business Communication, Report Writing, Global Marketing, Writing, Writing and Editing, Target Audience, Communication, Virtual Teams, Press Releases, Persuasive Communication, Customer Analysis, Presentations, Communication Strategies                                                                                                                            1\n",
      "Data Sharing, Document Management, User Accounts, Web Content Accessibility Guidelines, File Management, Web Content, Information Architecture                                                                                                                                                                                                                                                                                                               1\n",
      "Investment Management, Wealth Management, Asset Management, Investments, FinTech, Financial Trading, Portfolio Management, Artificial Intelligence and Machine Learning (AI/ML), Artificial Intelligence, Big Data, Artificial Neural Networks, Machine Learning, Predictive Analytics                                                                                                                                                                       1\n",
      "Test Case, Software Development Tools, Google Cloud Platform, Software Documentation, Generative AI, Debugging, Maintainability, Artificial Intelligence                                                                                                                                                                                                                                                                                                     1\n",
      "Name: count, Length: 2762, dtype: int64\n",
      "\n"
     ]
    }
   ],
   "source": [
    "# Define updated categorical and numerical features\n",
    "categorical_features = ['Subject', 'Title', 'Institution', 'Learning Product', 'Level', 'Duration',\n",
    "    'Gained Skills'] \n",
    "numeric_features = ['Rate','Reviews']\n",
    "\n",
    "# Print value counts for categorical features\n",
    "for feature in categorical_features:\n",
    "    print(f\"Value counts for {feature}:\\n{coursera[feature].value_counts()}\\n\")"
   ]
  },
  {
   "cell_type": "markdown",
   "id": "f7cee10f-0af8-44e5-b595-8e965294daad",
   "metadata": {},
   "source": [
    "### Correcting errors\n",
    "\n",
    "-------------------"
   ]
  },
  {
   "cell_type": "code",
   "execution_count": null,
   "id": "06273b88-a169-42e8-81f5-5d71cb3f9c21",
   "metadata": {},
   "outputs": [],
   "source": []
  },
  {
   "cell_type": "code",
   "execution_count": 56,
   "id": "f1d95da5-a3ba-473a-8243-aa177cadae20",
   "metadata": {},
   "outputs": [],
   "source": [
    "# go back to 7th dimension Accuracy "
   ]
  },
  {
   "cell_type": "markdown",
   "id": "5ecc7dbb-6867-44cf-8f99-1b969a80be40",
   "metadata": {},
   "source": [
    "### Dealing with outliers:"
   ]
  },
  {
   "attachments": {},
   "cell_type": "markdown",
   "id": "88347887-4bdf-48af-9486-cb8fe80c97af",
   "metadata": {},
   "source": [
    "**How to remove Outliers?**\n",
    "Most of the ways to deal with outliers are similar to the methods of missing values like deleting rows, transforming them, binning them, treat them as a separate group, imputing values and other statistical methods. Here, we will discuss the common techniques used to deal with outliers:\n",
    "\n",
    "1. Deleting rows: We delete outlier values if it is due to data entry error, data processing error or outlier rows are very small in numbers. We can also use trimming at both ends to remove outliers.\n",
    "\n",
    "2. Imputing: Like imputation of missing values, we can also impute outliers. We can use mean, median, mode imputation methods. Before imputing values, we should analyse if it is natural outlier or artificial. If it is artificial, we can go with imputing values. We can also use statistical model to predict values of outlier rows and after that we can impute it with predicted values.\n",
    "\n",
    "3. Treat separately: If there are significant number of outliers, we should treat them separately in the statistical model. One of the approach is to treat both groups as two different groups and build individual model for both groups and then combine the output.\n"
   ]
  },
  {
   "cell_type": "code",
   "execution_count": null,
   "id": "25a585f0-2b9c-42fa-bf21-cacc6aa3be3f",
   "metadata": {},
   "outputs": [],
   "source": []
  },
  {
   "cell_type": "markdown",
   "id": "98548b66-e309-4eb8-a5dc-65fe0abbf1e8",
   "metadata": {},
   "source": [
    "## 3. Univariate Analysis: \n",
    "\n",
    "This involves examining single variables to understand their characteristics (distribution, central tendency, dispersion, and shape).\n",
    "\n",
    "We calculate **numerical values** about the data that tells us about the distribution of the data. We also **draw graphs** showing visually how the data is distributed. **To answer the following questions about Features/characteristics of Data:**\n",
    "- Where is the center of the data? (location)\n",
    "- How much does the data vary? (scale)\n",
    "- What is the shape of the data? (shape)\n",
    "\n",
    "**The benefits of this analysis:**\n",
    "Statistics summary gives a high-level idea to identify whether the data has any outliers, data entry error, distribution of data such as the data is normally distributed or left/right skewed\n",
    "\n",
    "**In this step, we will explore variables one by one using following approaches:**"
   ]
  },
  {
   "cell_type": "markdown",
   "id": "d6718111-7ac2-4fff-9851-654655b62e0b",
   "metadata": {},
   "source": [
    "### 1. Univariate Graphical Analysis:\n",
    "Method to perform uni-variate analysis will depend on whether the variable type is categorical or numerical."
   ]
  },
  {
   "cell_type": "code",
   "execution_count": null,
   "id": "db79d803-b75c-4686-a623-e8420321a90f",
   "metadata": {},
   "outputs": [],
   "source": []
  },
  {
   "cell_type": "markdown",
   "id": "0d57c4b9-9bb3-494d-85dd-b8d39afda139",
   "metadata": {},
   "source": [
    "#### I. Categorical Variables:\n",
    "\n",
    "we’ll use frequency table to understand distribution of each category\n",
    "- Bar Chart (Ordinal) - Orderd\n",
    "- Pie Chart (Nominal) - non Orderd"
   ]
  },
  {
   "cell_type": "code",
   "execution_count": null,
   "id": "72ece4b7-5508-403a-8fb0-f519fc74272a",
   "metadata": {},
   "outputs": [],
   "source": []
  },
  {
   "cell_type": "markdown",
   "id": "d2641f0d-80f2-493b-99b7-15476379a1e2",
   "metadata": {},
   "source": [
    "#### II. Numerical Variables:\n",
    "\n",
    "we need to understand the central tendency and spread of the variable (Descriptive Analysis) using:\n",
    "   - Box plot\n",
    "   - Histogram"
   ]
  },
  {
   "cell_type": "code",
   "execution_count": null,
   "id": "5be16f08-a072-4a02-a3ee-6f9d57786fb4",
   "metadata": {},
   "outputs": [],
   "source": []
  },
  {
   "cell_type": "markdown",
   "id": "d66677d3-44ad-414f-9b39-f9c1995ad043",
   "metadata": {},
   "source": [
    "### 2. Univariate Non-Graphical analysis: \n",
    "\n",
    "- Where is the center of the data? (location) --> **Measures of central tendency**\n",
    "- How much does the data vary? (scale) --> **Measure of variability**\n",
    "- What is the shape of the data? (shape) --> **Measures of variation combined with an average (measure of center) gives a good picture of the distribution of the data.**"
   ]
  },
  {
   "cell_type": "code",
   "execution_count": null,
   "id": "f1058d84-e61e-4f5b-b66a-29931e77821b",
   "metadata": {},
   "outputs": [],
   "source": []
  },
  {
   "cell_type": "markdown",
   "id": "f09bb809-0edd-432b-bf23-abd0840b3e16",
   "metadata": {},
   "source": [
    "## 4. Bivariate/Multivariate Analysis:\n",
    "\n",
    "Here, you look at the relationships between two or more variables. This can involve looking for correlations, patterns, and trends that suggest a relationship or an association.\n",
    "\n",
    "We can perform bi-variate analysis for any combination of categorical and numerical variables. The combination can be:\n",
    "| bi-variate variables   | Plot type |\n",
    "| ------------- | ------------- |\n",
    "| Categorical & Categorical| Stacked Bar Chart |\n",
    "| Categorical & numerical  | scatter plot, histogram, box plot|\n",
    "| numerical  & numerical  | Scatter plot, line chart| \n",
    "\n",
    "\n",
    "Multivariate Analysis:\n",
    "- Heat map\n",
    "- Bar Chart\n",
    "- Scatter Chart\n",
    "- Line Chart"
   ]
  },
  {
   "cell_type": "markdown",
   "id": "838f2864-ce9e-4f15-99c8-052d053154a7",
   "metadata": {},
   "source": [
    "**Categorical & Categorical --> (Stacked Column Chart)**"
   ]
  },
  {
   "cell_type": "code",
   "execution_count": null,
   "id": "73f9f2ac-8477-49ea-9c68-4fe44d4395b6",
   "metadata": {},
   "outputs": [],
   "source": []
  },
  {
   "cell_type": "markdown",
   "id": "730e088f-fe13-40da-8fbb-686f5135fa4d",
   "metadata": {},
   "source": [
    "**Categorical & numerical --> (scatter plot, histogram, box plot)**"
   ]
  },
  {
   "cell_type": "code",
   "execution_count": null,
   "id": "3590e345-2051-4215-91ac-07d196b510ef",
   "metadata": {},
   "outputs": [],
   "source": []
  },
  {
   "cell_type": "markdown",
   "id": "20aed48d-b78e-46da-963f-e7f15e2f4dc7",
   "metadata": {},
   "source": [
    "**numerical & numerical --> (Scatter plot, line chart)**"
   ]
  },
  {
   "cell_type": "code",
   "execution_count": null,
   "id": "41023177-01cb-4f39-a750-12be71b13bda",
   "metadata": {},
   "outputs": [],
   "source": []
  },
  {
   "cell_type": "markdown",
   "id": "efb43b30-b1f0-48a4-a19c-195810cc8a0f",
   "metadata": {},
   "source": [
    "We could also use a correlation matrix to get more specific information about the relationship between these two variables."
   ]
  },
  {
   "cell_type": "code",
   "execution_count": null,
   "id": "8406f58f-b825-4a15-8f6e-c68ca66bd483",
   "metadata": {},
   "outputs": [],
   "source": []
  },
  {
   "cell_type": "markdown",
   "id": "93eec2f4",
   "metadata": {},
   "source": [
    "## Machine Learning (kmeans)"
   ]
  },
  {
   "cell_type": "code",
   "execution_count": 57,
   "id": "498a2925",
   "metadata": {},
   "outputs": [
    {
     "name": "stdout",
     "output_type": "stream",
     "text": [
      "Features: ['Rate', 'Reviews', 'Level', 'Subject'] | k = 3 | Silhouette Score: 0.3589\n",
      "Features: ['Rate', 'Reviews', 'Level', 'Subject'] | k = 4 | Silhouette Score: 0.2535\n",
      "Features: ['Rate', 'Reviews', 'Level', 'Institution'] | k = 3 | Silhouette Score: 0.3637\n",
      "Features: ['Rate', 'Reviews', 'Level', 'Institution'] | k = 4 | Silhouette Score: 0.2009\n",
      "Features: ['Rate', 'Reviews', 'Level', 'Duration'] | k = 3 | Silhouette Score: 0.4071\n",
      "Features: ['Rate', 'Reviews', 'Level', 'Duration'] | k = 4 | Silhouette Score: 0.2635\n",
      "Features: ['Rate', 'Reviews', 'Subject', 'Institution'] | k = 3 | Silhouette Score: 0.3523\n",
      "Features: ['Rate', 'Reviews', 'Subject', 'Institution'] | k = 4 | Silhouette Score: 0.1563\n",
      "Features: ['Rate', 'Reviews', 'Subject', 'Duration'] | k = 3 | Silhouette Score: 0.3514\n",
      "Features: ['Rate', 'Reviews', 'Subject', 'Duration'] | k = 4 | Silhouette Score: 0.2271\n",
      "Features: ['Rate', 'Reviews', 'Institution', 'Duration'] | k = 3 | Silhouette Score: 0.3581\n",
      "Features: ['Rate', 'Reviews', 'Institution', 'Duration'] | k = 4 | Silhouette Score: 0.1852\n",
      "Features: ['Rate', 'Level', 'Subject', 'Institution'] | k = 3 | Silhouette Score: 0.1587\n",
      "Features: ['Rate', 'Level', 'Subject', 'Institution'] | k = 4 | Silhouette Score: 0.1501\n",
      "Features: ['Rate', 'Level', 'Subject', 'Duration'] | k = 3 | Silhouette Score: 0.1908\n",
      "Features: ['Rate', 'Level', 'Subject', 'Duration'] | k = 4 | Silhouette Score: 0.1878\n",
      "Features: ['Rate', 'Level', 'Institution', 'Duration'] | k = 3 | Silhouette Score: 0.1611\n",
      "Features: ['Rate', 'Level', 'Institution', 'Duration'] | k = 4 | Silhouette Score: 0.1868\n",
      "Features: ['Rate', 'Subject', 'Institution', 'Duration'] | k = 3 | Silhouette Score: 0.1419\n",
      "Features: ['Rate', 'Subject', 'Institution', 'Duration'] | k = 4 | Silhouette Score: 0.1800\n",
      "Features: ['Reviews', 'Level', 'Subject', 'Institution'] | k = 3 | Silhouette Score: 0.1621\n",
      "Features: ['Reviews', 'Level', 'Subject', 'Institution'] | k = 4 | Silhouette Score: 0.1547\n",
      "Features: ['Reviews', 'Level', 'Subject', 'Duration'] | k = 3 | Silhouette Score: 0.2047\n",
      "Features: ['Reviews', 'Level', 'Subject', 'Duration'] | k = 4 | Silhouette Score: 0.2114\n",
      "Features: ['Reviews', 'Level', 'Institution', 'Duration'] | k = 3 | Silhouette Score: 0.1677\n",
      "Features: ['Reviews', 'Level', 'Institution', 'Duration'] | k = 4 | Silhouette Score: 0.1720\n",
      "Features: ['Reviews', 'Subject', 'Institution', 'Duration'] | k = 3 | Silhouette Score: 0.1471\n",
      "Features: ['Reviews', 'Subject', 'Institution', 'Duration'] | k = 4 | Silhouette Score: 0.1908\n",
      "Features: ['Level', 'Subject', 'Institution', 'Duration'] | k = 3 | Silhouette Score: 0.1232\n",
      "Features: ['Level', 'Subject', 'Institution', 'Duration'] | k = 4 | Silhouette Score: 0.1361\n",
      "Features: ['Rate', 'Reviews', 'Level', 'Subject', 'Institution'] | k = 3 | Silhouette Score: 0.2734\n",
      "Features: ['Rate', 'Reviews', 'Level', 'Subject', 'Institution'] | k = 4 | Silhouette Score: 0.1557\n",
      "Features: ['Rate', 'Reviews', 'Level', 'Subject', 'Duration'] | k = 3 | Silhouette Score: 0.2988\n",
      "Features: ['Rate', 'Reviews', 'Level', 'Subject', 'Duration'] | k = 4 | Silhouette Score: 0.1842\n",
      "Features: ['Rate', 'Reviews', 'Level', 'Institution', 'Duration'] | k = 3 | Silhouette Score: 0.3146\n",
      "Features: ['Rate', 'Reviews', 'Level', 'Institution', 'Duration'] | k = 4 | Silhouette Score: 0.1576\n",
      "Features: ['Rate', 'Reviews', 'Subject', 'Institution', 'Duration'] | k = 3 | Silhouette Score: 0.2688\n",
      "Features: ['Rate', 'Reviews', 'Subject', 'Institution', 'Duration'] | k = 4 | Silhouette Score: 0.1408\n",
      "Features: ['Rate', 'Level', 'Subject', 'Institution', 'Duration'] | k = 3 | Silhouette Score: 0.1301\n",
      "Features: ['Rate', 'Level', 'Subject', 'Institution', 'Duration'] | k = 4 | Silhouette Score: 0.1200\n",
      "Features: ['Reviews', 'Level', 'Subject', 'Institution', 'Duration'] | k = 3 | Silhouette Score: 0.1314\n",
      "Features: ['Reviews', 'Level', 'Subject', 'Institution', 'Duration'] | k = 4 | Silhouette Score: 0.1244\n",
      "Features: ['Rate', 'Reviews', 'Level', 'Subject', 'Institution', 'Duration'] | k = 3 | Silhouette Score: 0.2405\n",
      "Features: ['Rate', 'Reviews', 'Level', 'Subject', 'Institution', 'Duration'] | k = 4 | Silhouette Score: 0.1300\n",
      "\n",
      "Best Feature Combination:\n",
      "Features: ['Rate', 'Reviews', 'Level', 'Duration']\n",
      "k: 3\n",
      "Silhouette Score: 0.40712108251329404\n"
     ]
    }
   ],
   "source": [
    "import itertools\n",
    "import pandas as pd\n",
    "import numpy as np\n",
    "from sklearn.preprocessing import StandardScaler, OneHotEncoder\n",
    "from sklearn.compose import ColumnTransformer\n",
    "from sklearn.pipeline import Pipeline\n",
    "from sklearn.cluster import KMeans\n",
    "from sklearn.metrics import silhouette_score\n",
    "\n",
    "# -------------------------\n",
    "# Load and prepare the data\n",
    "# -------------------------\n",
    "# Assuming the dataset is named coursera\n",
    "coursera_processed = coursera.drop(columns=['Title'])  # Drop non-relevant columns\n",
    "\n",
    "# -------------------------\n",
    "# Define candidate features\n",
    "# -------------------------\n",
    "candidate_features = [\n",
    "    'Rate',           # Numerical\n",
    "    'Reviews',        # Numerical\n",
    "    'Level',          # Categorical\n",
    "    'Subject',        # Categorical\n",
    "    'Institution',    # Categorical\n",
    "    'Duration'        # Categorical\n",
    "]\n",
    "\n",
    "numeric_features_set = {'Rate', 'Reviews'}\n",
    "categorical_features_set = {'Level', 'Subject', 'Institution', 'Duration'}\n",
    "\n",
    "# -------------------------\n",
    "# Iterate over all feature combinations of size 4 or more,\n",
    "# and evaluate clustering with k = 3 and k = 4.\n",
    "# -------------------------\n",
    "results = []  # To store each combination's performance\n",
    "\n",
    "for r in range(4, len(candidate_features) + 1):\n",
    "    for combo in itertools.combinations(candidate_features, r):\n",
    "        features = list(combo)\n",
    "        \n",
    "        # Determine numeric and categorical columns for this combination\n",
    "        numeric_cols = [feat for feat in features if feat in numeric_features_set]\n",
    "        categorical_cols = [feat for feat in features if feat in categorical_features_set]\n",
    "        \n",
    "        # Build the preprocessor\n",
    "        transformers = []\n",
    "        if numeric_cols:\n",
    "            transformers.append(('num', StandardScaler(), numeric_cols))\n",
    "        if categorical_cols:\n",
    "            transformers.append(('cat', OneHotEncoder(handle_unknown='ignore'), categorical_cols))\n",
    "        preprocessor = ColumnTransformer(transformers)\n",
    "        pipeline = Pipeline(steps=[('preprocessor', preprocessor)])\n",
    "        \n",
    "        try:\n",
    "            X_preprocessed = pipeline.fit_transform(coursera_processed[features])\n",
    "        except Exception as e:\n",
    "            print(f\"Error processing combination {features}: {e}\")\n",
    "            continue\n",
    "        \n",
    "        for k in [3, 4]:\n",
    "            try:\n",
    "                kmeans = KMeans(n_clusters=k, init='k-means++', max_iter=500, n_init=20,\n",
    "                                tol=1e-4, algorithm='elkan', random_state=0)\n",
    "                cluster_labels = kmeans.fit_predict(X_preprocessed)\n",
    "                score = silhouette_score(X_preprocessed, cluster_labels)\n",
    "            except Exception as e:\n",
    "                print(f\"Error clustering with features {features} and k={k}: {e}\")\n",
    "                continue\n",
    "            \n",
    "            results.append({\n",
    "                'features': features,\n",
    "                'k': k,\n",
    "                'silhouette_score': score\n",
    "            })\n",
    "            print(f\"Features: {features} | k = {k} | Silhouette Score: {score:.4f}\")\n",
    "\n",
    "# -------------------------\n",
    "# Identify the best feature combination based on silhouette score\n",
    "# -------------------------\n",
    "if results:\n",
    "    best_result = max(results, key=lambda x: x['silhouette_score'])\n",
    "    print(\"\\nBest Feature Combination:\")\n",
    "    print(\"Features:\", best_result['features'])\n",
    "    print(\"k:\", best_result['k'])\n",
    "    print(\"Silhouette Score:\", best_result['silhouette_score'])\n",
    "else:\n",
    "    print(\"No valid feature combinations found.\")\n"
   ]
  },
  {
   "cell_type": "code",
   "execution_count": 58,
   "id": "c973c365",
   "metadata": {},
   "outputs": [
    {
     "name": "stdout",
     "output_type": "stream",
     "text": [
      "Silhouette Score for k=3: 0.5110\n",
      "Cluster  Cluster Name       \n",
      "0        The Reliable Basics    2962\n",
      "1        The Hidden Gems         389\n",
      "2        The Crowd Favorites      50\n",
      "Name: count, dtype: int64\n"
     ]
    },
    {
     "data": {
      "image/png": "[encoded data removed]",
      "text/plain": [
       "<Figure size 1000x600 with 1 Axes>"
      ]
     },
     "metadata": {},
     "output_type": "display_data"
    },
    {
     "name": "stdout",
     "output_type": "stream",
     "text": [
      "\n",
      "Cluster 0 Data:\n",
      "   Rate  Reviews         Level  Cluster\n",
      "0   4.4     6100      Beginner        0\n",
      "1   4.6    11000  Intermediate        0\n",
      "2   4.8    30000      Beginner        0\n",
      "3   4.4     1800  Intermediate        0\n",
      "4   4.8     4800         Mixed        0\n",
      "\n",
      "Cluster 1 Data:\n",
      "     Rate  Reviews         Level  Cluster\n",
      "44    4.2      142      Beginner        1\n",
      "59    4.2       28  Intermediate        1\n",
      "68    4.1       11      Beginner        1\n",
      "166   3.9     1000      Beginner        1\n",
      "212   4.2     3800      Beginner        1\n",
      "\n",
      "Cluster 2 Data:\n",
      "     Rate  Reviews         Level  Cluster\n",
      "30    4.8    46000      Beginner        2\n",
      "63    4.8   124000      Beginner        2\n",
      "72    4.9    92000  Intermediate        2\n",
      "74    4.7    97000      Beginner        2\n",
      "110   4.9    62000      Beginner        2\n"
     ]
    }
   ],
   "source": [
    "import pandas as pd\n",
    "import numpy as np\n",
    "from sklearn.preprocessing import StandardScaler, OneHotEncoder\n",
    "from sklearn.compose import ColumnTransformer\n",
    "from sklearn.pipeline import Pipeline\n",
    "from sklearn.cluster import KMeans\n",
    "from sklearn.metrics import silhouette_score\n",
    "import matplotlib.pyplot as plt\n",
    "import seaborn as sns\n",
    "\n",
    "# -------------------------\n",
    "# Load and prepare the data\n",
    "# -------------------------\n",
    "coursera_processed = coursera[['Rate', 'Reviews', 'Level']].dropna()\n",
    "\n",
    "# Filter data: Remove rows where Rate < 2.5 and Reviews > 200000\n",
    "coursera_processed = coursera_processed[(coursera_processed['Rate'] >= 2.5) & (coursera_processed['Reviews'] <= 200000)]\n",
    "\n",
    "# -------------------------\n",
    "# Preprocessing pipeline\n",
    "# -------------------------\n",
    "numeric_cols = ['Rate', 'Reviews']\n",
    "categorical_cols = ['Level']\n",
    "\n",
    "# Define preprocessor\n",
    "preprocessor = ColumnTransformer([\n",
    "    ('num', StandardScaler(), numeric_cols),\n",
    "    ('cat', OneHotEncoder(handle_unknown='ignore'), categorical_cols)\n",
    "])\n",
    "\n",
    "pipeline = Pipeline(steps=[('preprocessor', preprocessor)])\n",
    "X_preprocessed = pipeline.fit_transform(coursera_processed)\n",
    "\n",
    "# -------------------------\n",
    "# Apply K-Means Clustering with k=3 (for Level-based segmentation)\n",
    "# -------------------------\n",
    "k = 3\n",
    "kmeans = KMeans(n_clusters=k, init='k-means++', max_iter=500, n_init=20,\n",
    "                tol=1e-4, algorithm='elkan', random_state=0)\n",
    "coursera_processed['Cluster'] = kmeans.fit_predict(X_preprocessed)\n",
    "\n",
    "# Compute silhouette score\n",
    "silhouette = silhouette_score(X_preprocessed, coursera_processed['Cluster'])\n",
    "print(f\"Silhouette Score for k={k}: {silhouette:.4f}\")\n",
    "\n",
    "# -------------------------\n",
    "# Assigning insightful cluster names based on hidden patterns\n",
    "# -------------------------\n",
    "cluster_mapping = {\n",
    "    0: \"The Reliable Basics\",\n",
    "    1: \"The Hidden Gems\",\n",
    "    2: \"The Crowd Favorites\"\n",
    "}\n",
    "coursera_processed['Cluster Name'] = coursera_processed['Cluster'].map(cluster_mapping)\n",
    "\n",
    "\n",
    "# Display cluster counts\n",
    "print(coursera_processed[['Cluster', 'Cluster Name']].value_counts())\n",
    "\n",
    "# -------------------------\n",
    "# Visualizing Clusters by Level, Rate, and Reviews\n",
    "# -------------------------\n",
    "plt.figure(figsize=(10, 6))\n",
    "sns.scatterplot(x=coursera_processed['Rate'], y=coursera_processed['Reviews'],\n",
    "                hue=coursera_processed['Cluster Name'], palette='viridis', s=100, alpha=0.7)\n",
    "plt.title(f'K-Means Clustering (k={k}) - Categorized by Level, Rate, and Reviews')\n",
    "plt.xlabel('Rate')\n",
    "plt.ylabel('Reviews')\n",
    "plt.legend(title='Cluster Name', bbox_to_anchor=(1.05, 1), loc='upper left')\n",
    "plt.show()\n",
    "\n",
    "# -------------------------\n",
    "# Display each cluster separately in a DataFrame\n",
    "# -------------------------\n",
    "coursera_processed = coursera_processed.drop(columns=['Cluster Name'], errors='ignore')\n",
    "clusters = {}\n",
    "for cluster_num in sorted(coursera_processed['Cluster'].unique()):\n",
    "    clusters[f\"Cluster {cluster_num}\"] = coursera_processed[coursera_processed['Cluster'] == cluster_num]\n",
    "    print(f\"\\nCluster {cluster_num} Data:\")\n",
    "    print(clusters[f\"Cluster {cluster_num}\"].head())  # Display first few rows of each cluster\n",
    "\n"
   ]
  },
  {
   "cell_type": "code",
   "execution_count": 59,
   "id": "a3cc6a9b",
   "metadata": {},
   "outputs": [],
   "source": [
    "# Cluster 0: \"The Reliable Basics\"\n",
    "# Why?: These courses are consistent in quality (high ratings) and mostly target beginners. They’re the go-to courses for foundational learning, but they’re not necessarily the most popular or trending.\n",
    "\n",
    "# Cluster 1: \"The Hidden Gems\"\n",
    "# Why?: These courses are less popular (fewer reviews) and have lower ratings, but they cater to niche topics or specific audiences. They’re perfect for learners looking for something unique or off the beaten path.\n",
    "\n",
    "# Cluster 2: \"The Crowd Favorites\"\n",
    "# Why?: These courses are massively popular (huge review counts) and have high ratings. They’re the top picks for beginners and dominate the platform in terms of visibility and engagement."
   ]
  },
  {
   "cell_type": "code",
   "execution_count": null,
   "id": "d4a63a99",
   "metadata": {},
   "outputs": [],
   "source": [
    "import pandas as pd\n",
    "import numpy as np\n",
    "from sklearn.preprocessing import StandardScaler, OneHotEncoder\n",
    "from sklearn.compose import ColumnTransformer\n",
    "from sklearn.pipeline import Pipeline\n",
    "from sklearn.cluster import KMeans\n",
    "from sklearn.metrics import silhouette_score\n",
    "import matplotlib.pyplot as plt\n",
    "import seaborn as sns\n",
    "\n",
    "# -------------------------\n",
    "# Load and prepare the data\n",
    "# -------------------------\n",
    "# Assuming 'coursera' is your DataFrame; replace with actual data loading if needed\n",
    "# coursera = pd.read_csv('your_coursera_data.csv')\n",
    "coursera_processed = coursera[['Rate', 'Reviews', 'Level']].dropna()\n",
    "\n",
    "# Filter data: Remove rows where Rate < 2.5 and Reviews > 200000\n",
    "coursera_processed = coursera_processed[(coursera_processed['Rate'] >= 2.5) & (coursera_processed['Reviews'] <= 200000)]\n",
    "\n",
    "# -------------------------\n",
    "# Preprocessing pipeline\n",
    "# -------------------------\n",
    "numeric_cols = ['Rate', 'Reviews']\n",
    "categorical_cols = ['Level']\n",
    "\n",
    "# Define preprocessor\n",
    "preprocessor = ColumnTransformer([\n",
    "    ('num', StandardScaler(), numeric_cols),\n",
    "    ('cat', OneHotEncoder(handle_unknown='ignore'), categorical_cols)\n",
    "])\n",
    "\n",
    "pipeline = Pipeline(steps=[('preprocessor', preprocessor)])\n",
    "X_preprocessed = pipeline.fit_transform(coursera_processed)\n",
    "\n",
    "# -------------------------\n",
    "# Apply K-Means Clustering with k=3\n",
    "# -------------------------\n",
    "k = 3\n",
    "kmeans = KMeans(n_clusters=k, init='k-means++', max_iter=500, n_init=20,\n",
    "                tol=1e-4, algorithm='elkan', random_state=0)\n",
    "coursera_processed['Cluster'] = kmeans.fit_predict(X_preprocessed)\n",
    "\n",
    "# Compute silhouette score\n",
    "silhouette = silhouette_score(X_preprocessed, coursera_processed['Cluster'])\n",
    "print(f\"Silhouette Score for k={k}: {silhouette:.4f}\")\n",
    "\n",
    "# -------------------------\n",
    "# Exporting each cluster for analysis and providing insights\n",
    "# -------------------------\n",
    "for cluster_num in sorted(coursera_processed['Cluster'].unique()):\n",
    "    cluster_df = coursera_processed[coursera_processed['Cluster'] == cluster_num]\n",
    "    file_name = f\"Cluster_{cluster_num}.csv\"\n",
    "    cluster_df.to_csv(file_name, index=False)\n",
    "    print(f\"\\nCluster {cluster_num} saved as {file_name}. Size: {len(cluster_df)} records.\")\n",
    "    \n",
    "    # Display sample data\n",
    "    print(f\"Cluster {cluster_num} Sample Data (First 5 Rows):\")\n",
    "    print(cluster_df.head())\n",
    "    \n",
    "    # Display summary statistics\n",
    "    print(f\"Cluster {cluster_num} Summary Statistics:\")\n",
    "    print(cluster_df.describe(include='all'))\n",
    "    \n",
    "    # Analyze Level distribution\n",
    "    print(f\"Cluster {cluster_num} Level Distribution:\")\n",
    "    print(cluster_df['Level'].value_counts())\n",
    "\n",
    "\n",
    "\n"
   ]
  }
 ],
 "metadata": {
  "kernelspec": {
   "display_name": "Python 3",
   "language": "python",
   "name": "python3"
  },
  "language_info": {
   "codemirror_mode": {
    "name": "ipython",
    "version": 3
   },
   "file_extension": ".py",
   "mimetype": "text/x-python",
   "name": "python",
   "nbconvert_exporter": "python",
   "pygments_lexer": "ipython3",
   "version": "3.8.6"
  }
 },
 "nbformat": 4,
 "nbformat_minor": 5
}
