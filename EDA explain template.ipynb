{
 "cells": [
  {
   "cell_type": "code",
   "execution_count": 1,
   "id": "e69c4ba1-85f3-4a02-ae37-c64347a01803",
   "metadata": {},
   "outputs": [],
   "source": [
    "#Import all relevant libraries\n",
    "import numpy as np\n",
    "import pandas as pd\n",
    "import matplotlib.pyplot as plt\n",
    "import seaborn as sns\n",
    "from scipy.stats import zscore\n",
    " \n",
    "## This statement allows the visuals to render within your Jupyter Notebook.\n",
    "%matplotlib inline"
   ]
  },
  {
   "cell_type": "markdown",
   "id": "e395e8bf-b530-4720-8d0f-26811e927d6e",
   "metadata": {},
   "source": [
    "## Loading the data\n",
    "We can now load the dataset into pandas using the read_csv() function. This converts the CSV file into a Pandas dataframe."
   ]
  },
  {
   "cell_type": "code",
   "execution_count": 2,
   "id": "cf4030b0-aa7f-4bd7-8e9c-c1b7f4d202d0",
   "metadata": {},
   "outputs": [],
   "source": [
    "coursera = pd.read_csv(\"DATA\\Coursera.csv\") "
   ]
  },
  {
   "cell_type": "markdown",
   "id": "ca5ed983-0f72-43eb-8168-6fafd48c562e",
   "metadata": {},
   "source": [
    "### Viewing the dataframe\n",
    "We can get a quick sense of the size of our dataset by using the shape method. This returns a tuple with the number of rows and columns in the dataset."
   ]
  },
  {
   "cell_type": "code",
   "execution_count": 3,
   "id": "bfde0b69-613c-4dd1-8ebf-e4d2e570e653",
   "metadata": {},
   "outputs": [
    {
     "data": {
      "text/html": [
       "<div>\n",
       "<style scoped>\n",
       "    .dataframe tbody tr th:only-of-type {\n",
       "        vertical-align: middle;\n",
       "    }\n",
       "\n",
       "    .dataframe tbody tr th {\n",
       "        vertical-align: top;\n",
       "    }\n",
       "\n",
       "    .dataframe thead th {\n",
       "        text-align: right;\n",
       "    }\n",
       "</style>\n",
       "<table border=\"1\" class=\"dataframe\">\n",
       "  <thead>\n",
       "    <tr style=\"text-align: right;\">\n",
       "      <th></th>\n",
       "      <th>Subject</th>\n",
       "      <th>Title</th>\n",
       "      <th>Institution</th>\n",
       "      <th>Learning Product</th>\n",
       "      <th>Level</th>\n",
       "      <th>Duration</th>\n",
       "      <th>Gained Skills</th>\n",
       "      <th>Rate</th>\n",
       "      <th>Reviews</th>\n",
       "    </tr>\n",
       "  </thead>\n",
       "  <tbody>\n",
       "    <tr>\n",
       "      <th>0</th>\n",
       "      <td>Business</td>\n",
       "      <td>Business Analysis &amp; Process Management</td>\n",
       "      <td>Coursera Project Network</td>\n",
       "      <td>Guided Project</td>\n",
       "      <td>Beginner</td>\n",
       "      <td>Less Than 2 Hours</td>\n",
       "      <td>Process Analysis, Business Process, Business A...</td>\n",
       "      <td>4.4</td>\n",
       "      <td>6100</td>\n",
       "    </tr>\n",
       "    <tr>\n",
       "      <th>1</th>\n",
       "      <td>Business</td>\n",
       "      <td>Getting Started with Microsoft Excel</td>\n",
       "      <td>Coursera Project Network</td>\n",
       "      <td>Guided Project</td>\n",
       "      <td>Intermediate</td>\n",
       "      <td>Less Than 2 Hours</td>\n",
       "      <td>Microsoft Excel, Excel Formulas, Spreadsheet S...</td>\n",
       "      <td>4.6</td>\n",
       "      <td>11000</td>\n",
       "    </tr>\n",
       "    <tr>\n",
       "      <th>2</th>\n",
       "      <td>Business</td>\n",
       "      <td>Financial Markets</td>\n",
       "      <td>Yale University</td>\n",
       "      <td>Course</td>\n",
       "      <td>Beginner</td>\n",
       "      <td>1 - 3 Months</td>\n",
       "      <td>Investment Banking, Risk Management, Financial...</td>\n",
       "      <td>4.8</td>\n",
       "      <td>30000</td>\n",
       "    </tr>\n",
       "    <tr>\n",
       "      <th>3</th>\n",
       "      <td>Business</td>\n",
       "      <td>Investment Risk Management</td>\n",
       "      <td>Coursera Project Network</td>\n",
       "      <td>Guided Project</td>\n",
       "      <td>Intermediate</td>\n",
       "      <td>Less Than 2 Hours</td>\n",
       "      <td>Investment Management, Risk Management, Financ...</td>\n",
       "      <td>4.4</td>\n",
       "      <td>1800</td>\n",
       "    </tr>\n",
       "    <tr>\n",
       "      <th>4</th>\n",
       "      <td>Business</td>\n",
       "      <td>Food &amp; Beverage Management</td>\n",
       "      <td>Università Bocconi</td>\n",
       "      <td>Course</td>\n",
       "      <td>Mixed</td>\n",
       "      <td>1 - 3 Months</td>\n",
       "      <td>Food and Beverage, Hospitality, Restaurant Man...</td>\n",
       "      <td>4.8</td>\n",
       "      <td>4800</td>\n",
       "    </tr>\n",
       "  </tbody>\n",
       "</table>\n",
       "</div>"
      ],
      "text/plain": [
       "    Subject                                   Title               Institution  \\\n",
       "0  Business  Business Analysis & Process Management  Coursera Project Network   \n",
       "1  Business    Getting Started with Microsoft Excel  Coursera Project Network   \n",
       "2  Business                       Financial Markets           Yale University   \n",
       "3  Business              Investment Risk Management  Coursera Project Network   \n",
       "4  Business              Food & Beverage Management        Università Bocconi   \n",
       "\n",
       "  Learning Product         Level           Duration  \\\n",
       "0   Guided Project      Beginner  Less Than 2 Hours   \n",
       "1   Guided Project  Intermediate  Less Than 2 Hours   \n",
       "2           Course      Beginner       1 - 3 Months   \n",
       "3   Guided Project  Intermediate  Less Than 2 Hours   \n",
       "4           Course         Mixed       1 - 3 Months   \n",
       "\n",
       "                                       Gained Skills  Rate  Reviews  \n",
       "0  Process Analysis, Business Process, Business A...   4.4     6100  \n",
       "1  Microsoft Excel, Excel Formulas, Spreadsheet S...   4.6    11000  \n",
       "2  Investment Banking, Risk Management, Financial...   4.8    30000  \n",
       "3  Investment Management, Risk Management, Financ...   4.4     1800  \n",
       "4  Food and Beverage, Hospitality, Restaurant Man...   4.8     4800  "
      ]
     },
     "execution_count": 3,
     "metadata": {},
     "output_type": "execute_result"
    }
   ],
   "source": [
    "coursera.head()"
   ]
  },
  {
   "cell_type": "code",
   "execution_count": 4,
   "id": "840474b1",
   "metadata": {},
   "outputs": [
    {
     "data": {
      "text/plain": [
       "(3404, 9)"
      ]
     },
     "execution_count": 4,
     "metadata": {},
     "output_type": "execute_result"
    }
   ],
   "source": [
    "coursera.shape"
   ]
  },
  {
   "cell_type": "markdown",
   "id": "bd2b5bc4-db37-4432-b666-0714afd0c4ca",
   "metadata": {},
   "source": [
    "## 1. Data Profiling:\n",
    "Data profiling is a comprehensive process of examining the data available in an existing dataset and collecting statistics and information about that data. "
   ]
  },
  {
   "cell_type": "code",
   "execution_count": 7,
   "id": "672f2081-5a2c-4908-8cbd-29519fb3cac5",
   "metadata": {},
   "outputs": [
    {
     "data": {
      "text/html": [
       "<div>\n",
       "<style scoped>\n",
       "    .dataframe tbody tr th:only-of-type {\n",
       "        vertical-align: middle;\n",
       "    }\n",
       "\n",
       "    .dataframe tbody tr th {\n",
       "        vertical-align: top;\n",
       "    }\n",
       "\n",
       "    .dataframe thead th {\n",
       "        text-align: right;\n",
       "    }\n",
       "</style>\n",
       "<table border=\"1\" class=\"dataframe\">\n",
       "  <thead>\n",
       "    <tr style=\"text-align: right;\">\n",
       "      <th></th>\n",
       "      <th>Subject</th>\n",
       "      <th>Title</th>\n",
       "      <th>Institution</th>\n",
       "      <th>Learning Product</th>\n",
       "      <th>Level</th>\n",
       "      <th>Duration</th>\n",
       "      <th>Gained Skills</th>\n",
       "      <th>Rate</th>\n",
       "      <th>Reviews</th>\n",
       "    </tr>\n",
       "  </thead>\n",
       "  <tbody>\n",
       "    <tr>\n",
       "      <th>0</th>\n",
       "      <td>Business</td>\n",
       "      <td>Business Analysis &amp; Process Management</td>\n",
       "      <td>Coursera Project Network</td>\n",
       "      <td>Guided Project</td>\n",
       "      <td>Beginner</td>\n",
       "      <td>Less Than 2 Hours</td>\n",
       "      <td>Process Analysis, Business Process, Business A...</td>\n",
       "      <td>4.4</td>\n",
       "      <td>6100</td>\n",
       "    </tr>\n",
       "    <tr>\n",
       "      <th>1</th>\n",
       "      <td>Business</td>\n",
       "      <td>Getting Started with Microsoft Excel</td>\n",
       "      <td>Coursera Project Network</td>\n",
       "      <td>Guided Project</td>\n",
       "      <td>Intermediate</td>\n",
       "      <td>Less Than 2 Hours</td>\n",
       "      <td>Microsoft Excel, Excel Formulas, Spreadsheet S...</td>\n",
       "      <td>4.6</td>\n",
       "      <td>11000</td>\n",
       "    </tr>\n",
       "    <tr>\n",
       "      <th>2</th>\n",
       "      <td>Business</td>\n",
       "      <td>Financial Markets</td>\n",
       "      <td>Yale University</td>\n",
       "      <td>Course</td>\n",
       "      <td>Beginner</td>\n",
       "      <td>1 - 3 Months</td>\n",
       "      <td>Investment Banking, Risk Management, Financial...</td>\n",
       "      <td>4.8</td>\n",
       "      <td>30000</td>\n",
       "    </tr>\n",
       "    <tr>\n",
       "      <th>3</th>\n",
       "      <td>Business</td>\n",
       "      <td>Investment Risk Management</td>\n",
       "      <td>Coursera Project Network</td>\n",
       "      <td>Guided Project</td>\n",
       "      <td>Intermediate</td>\n",
       "      <td>Less Than 2 Hours</td>\n",
       "      <td>Investment Management, Risk Management, Financ...</td>\n",
       "      <td>4.4</td>\n",
       "      <td>1800</td>\n",
       "    </tr>\n",
       "    <tr>\n",
       "      <th>4</th>\n",
       "      <td>Business</td>\n",
       "      <td>Food &amp; Beverage Management</td>\n",
       "      <td>Università Bocconi</td>\n",
       "      <td>Course</td>\n",
       "      <td>Mixed</td>\n",
       "      <td>1 - 3 Months</td>\n",
       "      <td>Food and Beverage, Hospitality, Restaurant Man...</td>\n",
       "      <td>4.8</td>\n",
       "      <td>4800</td>\n",
       "    </tr>\n",
       "  </tbody>\n",
       "</table>\n",
       "</div>"
      ],
      "text/plain": [
       "    Subject                                   Title               Institution  \\\n",
       "0  Business  Business Analysis & Process Management  Coursera Project Network   \n",
       "1  Business    Getting Started with Microsoft Excel  Coursera Project Network   \n",
       "2  Business                       Financial Markets           Yale University   \n",
       "3  Business              Investment Risk Management  Coursera Project Network   \n",
       "4  Business              Food & Beverage Management        Università Bocconi   \n",
       "\n",
       "  Learning Product         Level           Duration  \\\n",
       "0   Guided Project      Beginner  Less Than 2 Hours   \n",
       "1   Guided Project  Intermediate  Less Than 2 Hours   \n",
       "2           Course      Beginner       1 - 3 Months   \n",
       "3   Guided Project  Intermediate  Less Than 2 Hours   \n",
       "4           Course         Mixed       1 - 3 Months   \n",
       "\n",
       "                                       Gained Skills  Rate  Reviews  \n",
       "0  Process Analysis, Business Process, Business A...   4.4     6100  \n",
       "1  Microsoft Excel, Excel Formulas, Spreadsheet S...   4.6    11000  \n",
       "2  Investment Banking, Risk Management, Financial...   4.8    30000  \n",
       "3  Investment Management, Risk Management, Financ...   4.4     1800  \n",
       "4  Food and Beverage, Hospitality, Restaurant Man...   4.8     4800  "
      ]
     },
     "execution_count": 7,
     "metadata": {},
     "output_type": "execute_result"
    }
   ],
   "source": [
    "coursera.head()"
   ]
  },
  {
   "cell_type": "code",
   "execution_count": 8,
   "id": "ebdfad87",
   "metadata": {},
   "outputs": [
    {
     "data": {
      "text/plain": [
       "Index(['Subject', 'Title', 'Institution', 'Learning Product', 'Level',\n",
       "       'Duration', 'Gained Skills', 'Rate', 'Reviews'],\n",
       "      dtype='object')"
      ]
     },
     "execution_count": 8,
     "metadata": {},
     "output_type": "execute_result"
    }
   ],
   "source": [
    "coursera.columns"
   ]
  },
  {
   "cell_type": "code",
   "execution_count": 9,
   "id": "47b03dff",
   "metadata": {},
   "outputs": [
    {
     "name": "stdout",
     "output_type": "stream",
     "text": [
      "<class 'pandas.core.frame.DataFrame'>\n",
      "RangeIndex: 3404 entries, 0 to 3403\n",
      "Data columns (total 9 columns):\n",
      " #   Column            Non-Null Count  Dtype  \n",
      "---  ------            --------------  -----  \n",
      " 0   Subject           3404 non-null   object \n",
      " 1   Title             3404 non-null   object \n",
      " 2   Institution       3404 non-null   object \n",
      " 3   Learning Product  3404 non-null   object \n",
      " 4   Level             3404 non-null   object \n",
      " 5   Duration          3404 non-null   object \n",
      " 6   Gained Skills     3404 non-null   object \n",
      " 7   Rate              3404 non-null   float64\n",
      " 8   Reviews           3404 non-null   int64  \n",
      "dtypes: float64(1), int64(1), object(7)\n",
      "memory usage: 239.5+ KB\n"
     ]
    }
   ],
   "source": [
    "coursera.info()"
   ]
  },
  {
   "cell_type": "code",
   "execution_count": 10,
   "id": "92d059ce",
   "metadata": {},
   "outputs": [
    {
     "data": {
      "text/html": [
       "<div>\n",
       "<style scoped>\n",
       "    .dataframe tbody tr th:only-of-type {\n",
       "        vertical-align: middle;\n",
       "    }\n",
       "\n",
       "    .dataframe tbody tr th {\n",
       "        vertical-align: top;\n",
       "    }\n",
       "\n",
       "    .dataframe thead th {\n",
       "        text-align: right;\n",
       "    }\n",
       "</style>\n",
       "<table border=\"1\" class=\"dataframe\">\n",
       "  <thead>\n",
       "    <tr style=\"text-align: right;\">\n",
       "      <th></th>\n",
       "      <th>Subject</th>\n",
       "      <th>Title</th>\n",
       "      <th>Institution</th>\n",
       "      <th>Learning Product</th>\n",
       "      <th>Level</th>\n",
       "      <th>Duration</th>\n",
       "      <th>Gained Skills</th>\n",
       "    </tr>\n",
       "  </thead>\n",
       "  <tbody>\n",
       "    <tr>\n",
       "      <th>count</th>\n",
       "      <td>3404</td>\n",
       "      <td>3404</td>\n",
       "      <td>3404</td>\n",
       "      <td>3404</td>\n",
       "      <td>3404</td>\n",
       "      <td>3404</td>\n",
       "      <td>3404</td>\n",
       "    </tr>\n",
       "    <tr>\n",
       "      <th>unique</th>\n",
       "      <td>4</td>\n",
       "      <td>2753</td>\n",
       "      <td>208</td>\n",
       "      <td>5</td>\n",
       "      <td>4</td>\n",
       "      <td>4</td>\n",
       "      <td>2762</td>\n",
       "    </tr>\n",
       "    <tr>\n",
       "      <th>top</th>\n",
       "      <td>Business</td>\n",
       "      <td>Business Analytics</td>\n",
       "      <td>IBM</td>\n",
       "      <td>Course</td>\n",
       "      <td>Beginner</td>\n",
       "      <td>1 - 4 Weeks</td>\n",
       "      <td>Data Storytelling, Feature Engineering, Superv...</td>\n",
       "    </tr>\n",
       "    <tr>\n",
       "      <th>freq</th>\n",
       "      <td>973</td>\n",
       "      <td>6</td>\n",
       "      <td>251</td>\n",
       "      <td>2553</td>\n",
       "      <td>1741</td>\n",
       "      <td>1415</td>\n",
       "      <td>2</td>\n",
       "    </tr>\n",
       "  </tbody>\n",
       "</table>\n",
       "</div>"
      ],
      "text/plain": [
       "         Subject               Title Institution Learning Product     Level  \\\n",
       "count       3404                3404        3404             3404      3404   \n",
       "unique         4                2753         208                5         4   \n",
       "top     Business  Business Analytics         IBM           Course  Beginner   \n",
       "freq         973                   6         251             2553      1741   \n",
       "\n",
       "           Duration                                      Gained Skills  \n",
       "count          3404                                               3404  \n",
       "unique            4                                               2762  \n",
       "top     1 - 4 Weeks  Data Storytelling, Feature Engineering, Superv...  \n",
       "freq           1415                                                  2  "
      ]
     },
     "execution_count": 10,
     "metadata": {},
     "output_type": "execute_result"
    }
   ],
   "source": [
    "coursera.describe(include=\"object\")"
   ]
  },
  {
   "cell_type": "code",
   "execution_count": 11,
   "id": "d232773b",
   "metadata": {},
   "outputs": [
    {
     "data": {
      "text/html": [
       "<div>\n",
       "<style scoped>\n",
       "    .dataframe tbody tr th:only-of-type {\n",
       "        vertical-align: middle;\n",
       "    }\n",
       "\n",
       "    .dataframe tbody tr th {\n",
       "        vertical-align: top;\n",
       "    }\n",
       "\n",
       "    .dataframe thead th {\n",
       "        text-align: right;\n",
       "    }\n",
       "</style>\n",
       "<table border=\"1\" class=\"dataframe\">\n",
       "  <thead>\n",
       "    <tr style=\"text-align: right;\">\n",
       "      <th></th>\n",
       "      <th>Rate</th>\n",
       "      <th>Reviews</th>\n",
       "    </tr>\n",
       "  </thead>\n",
       "  <tbody>\n",
       "    <tr>\n",
       "      <th>count</th>\n",
       "      <td>3404.000000</td>\n",
       "      <td>3404.000000</td>\n",
       "    </tr>\n",
       "    <tr>\n",
       "      <th>mean</th>\n",
       "      <td>4.560076</td>\n",
       "      <td>3282.244712</td>\n",
       "    </tr>\n",
       "    <tr>\n",
       "      <th>std</th>\n",
       "      <td>0.316573</td>\n",
       "      <td>13121.984564</td>\n",
       "    </tr>\n",
       "    <tr>\n",
       "      <th>min</th>\n",
       "      <td>1.900000</td>\n",
       "      <td>6.000000</td>\n",
       "    </tr>\n",
       "    <tr>\n",
       "      <th>25%</th>\n",
       "      <td>4.500000</td>\n",
       "      <td>61.000000</td>\n",
       "    </tr>\n",
       "    <tr>\n",
       "      <th>50%</th>\n",
       "      <td>4.600000</td>\n",
       "      <td>322.000000</td>\n",
       "    </tr>\n",
       "    <tr>\n",
       "      <th>75%</th>\n",
       "      <td>4.700000</td>\n",
       "      <td>1600.000000</td>\n",
       "    </tr>\n",
       "    <tr>\n",
       "      <th>max</th>\n",
       "      <td>5.000000</td>\n",
       "      <td>277000.000000</td>\n",
       "    </tr>\n",
       "  </tbody>\n",
       "</table>\n",
       "</div>"
      ],
      "text/plain": [
       "              Rate        Reviews\n",
       "count  3404.000000    3404.000000\n",
       "mean      4.560076    3282.244712\n",
       "std       0.316573   13121.984564\n",
       "min       1.900000       6.000000\n",
       "25%       4.500000      61.000000\n",
       "50%       4.600000     322.000000\n",
       "75%       4.700000    1600.000000\n",
       "max       5.000000  277000.000000"
      ]
     },
     "execution_count": 11,
     "metadata": {},
     "output_type": "execute_result"
    }
   ],
   "source": [
    "coursera.describe(include=\"number\")"
   ]
  },
  {
   "cell_type": "markdown",
   "id": "834929aa-fd6a-4ec5-84d4-77c4b3c1a506",
   "metadata": {},
   "source": [
    "The process of profiling differs slightly for categorical and numerical variables due to their inherent differences.\n",
    "\n",
    "**The two main types of data are:**\n",
    "- Quantitative (numerical) data\n",
    "- Qualitative (categorical) data"
   ]
  },
  {
   "cell_type": "markdown",
   "id": "3a9954f5-6fbc-45b4-ad86-3e21b6e0ca2d",
   "metadata": {},
   "source": [
    "### Data Quality Checks\n",
    "Data quality checks involve the process of ensuring that the data is accurate, complete, consistent, relevant, and reliable. \n",
    "\n",
    "\n",
    "**Here are typical steps involved in checking data quality:**"
   ]
  },
  {
   "cell_type": "markdown",
   "id": "4818c876-173d-4e56-9e7d-b4334d2def25",
   "metadata": {},
   "source": [
    "#### 1. Reliability:\n",
    "Evaluate the data's source and collection process to determine its trustworthiness."
   ]
  },
  {
   "cell_type": "code",
   "execution_count": 12,
   "id": "9034ae7b-dc1d-4cba-8f9e-bb499d021cde",
   "metadata": {},
   "outputs": [],
   "source": [
    "# This dataset was generated by scraping data from Coursera and you can find it in Kaggle(https://www.kaggle.com/datasets/yosefxx590/coursera-courses-and-skills-dataset-2025/data)"
   ]
  },
  {
   "cell_type": "markdown",
   "id": "2ce0cc59-8c92-4acc-8d07-c40764e1a86b",
   "metadata": {},
   "source": [
    "#### 2. Timeliness: \n",
    "Ensure the data is up-to-date and reflective of the current situation or the period of interest for the analysis."
   ]
  },
  {
   "cell_type": "code",
   "execution_count": 13,
   "id": "4b78ae35-7226-4cb6-b8b2-a46c2ed17cf9",
   "metadata": {},
   "outputs": [],
   "source": [
    "# The data was published on March 7, 2025."
   ]
  },
  {
   "cell_type": "markdown",
   "id": "7fab0fe2-6624-4615-b9d8-3c3669056bf8",
   "metadata": {},
   "source": [
    "#### 3. Consistency: \n",
    "\n",
    "Confirm that the data is consistent within the dataset and across multiple data sources. For example, the same data point should not have different values in different places.\n"
   ]
  },
  {
   "cell_type": "code",
   "execution_count": 14,
   "id": "7fecc573-959f-4800-8ddd-a67985c68b18",
   "metadata": {},
   "outputs": [],
   "source": [
    "# The use of a single dataset guarantees consistency from the outset"
   ]
  },
  {
   "cell_type": "markdown",
   "id": "bec3d183-bba0-4b12-b963-487daab1e876",
   "metadata": {},
   "source": [
    "#### 4. Relevance: \n",
    "Assess whether the data is appropriate and applicable for the intended analysis. Data that is not relevant can skew results and lead to incorrect conclusions.\n",
    "\n",
    "**Key considerations for relevance include:**\n",
    "\n",
    "> 1. Sample Appropriateness: Confirm that your data sample aligns with your analysis objectives. For instance, utilizing data from the Northern region will not yield accurate insights for the Western region of the Kingdom.\n",
    ">\n",
    "> 2. Variable Selection: Any column will not be relevant for our analysis, we can get rid of these using the drop() method. We will set the “axis” argument to 1 since we’re dealing with columns, and set the “inplace” argument to True to make the change permanent.\n"
   ]
  },
  {
   "cell_type": "code",
   "execution_count": 15,
   "id": "50a934b7-a0cd-443f-8a27-f10e9a6e8647",
   "metadata": {
    "scrolled": true
   },
   "outputs": [
    {
     "data": {
      "text/html": [
       "<div>\n",
       "<style scoped>\n",
       "    .dataframe tbody tr th:only-of-type {\n",
       "        vertical-align: middle;\n",
       "    }\n",
       "\n",
       "    .dataframe tbody tr th {\n",
       "        vertical-align: top;\n",
       "    }\n",
       "\n",
       "    .dataframe thead th {\n",
       "        text-align: right;\n",
       "    }\n",
       "</style>\n",
       "<table border=\"1\" class=\"dataframe\">\n",
       "  <thead>\n",
       "    <tr style=\"text-align: right;\">\n",
       "      <th></th>\n",
       "      <th>Subject</th>\n",
       "      <th>Title</th>\n",
       "      <th>Institution</th>\n",
       "      <th>Learning Product</th>\n",
       "      <th>Level</th>\n",
       "      <th>Duration</th>\n",
       "      <th>Gained Skills</th>\n",
       "      <th>Rate</th>\n",
       "      <th>Reviews</th>\n",
       "    </tr>\n",
       "  </thead>\n",
       "  <tbody>\n",
       "    <tr>\n",
       "      <th>0</th>\n",
       "      <td>Business</td>\n",
       "      <td>Business Analysis &amp; Process Management</td>\n",
       "      <td>Coursera Project Network</td>\n",
       "      <td>Guided Project</td>\n",
       "      <td>Beginner</td>\n",
       "      <td>Less Than 2 Hours</td>\n",
       "      <td>Process Analysis, Business Process, Business A...</td>\n",
       "      <td>4.4</td>\n",
       "      <td>6100</td>\n",
       "    </tr>\n",
       "    <tr>\n",
       "      <th>1</th>\n",
       "      <td>Business</td>\n",
       "      <td>Getting Started with Microsoft Excel</td>\n",
       "      <td>Coursera Project Network</td>\n",
       "      <td>Guided Project</td>\n",
       "      <td>Intermediate</td>\n",
       "      <td>Less Than 2 Hours</td>\n",
       "      <td>Microsoft Excel, Excel Formulas, Spreadsheet S...</td>\n",
       "      <td>4.6</td>\n",
       "      <td>11000</td>\n",
       "    </tr>\n",
       "  </tbody>\n",
       "</table>\n",
       "</div>"
      ],
      "text/plain": [
       "    Subject                                   Title               Institution  \\\n",
       "0  Business  Business Analysis & Process Management  Coursera Project Network   \n",
       "1  Business    Getting Started with Microsoft Excel  Coursera Project Network   \n",
       "\n",
       "  Learning Product         Level           Duration  \\\n",
       "0   Guided Project      Beginner  Less Than 2 Hours   \n",
       "1   Guided Project  Intermediate  Less Than 2 Hours   \n",
       "\n",
       "                                       Gained Skills  Rate  Reviews  \n",
       "0  Process Analysis, Business Process, Business A...   4.4     6100  \n",
       "1  Microsoft Excel, Excel Formulas, Spreadsheet S...   4.6    11000  "
      ]
     },
     "execution_count": 15,
     "metadata": {},
     "output_type": "execute_result"
    }
   ],
   "source": [
    "coursera.head(2)"
   ]
  },
  {
   "cell_type": "code",
   "execution_count": 16,
   "id": "a2ad7f82",
   "metadata": {},
   "outputs": [
    {
     "data": {
      "text/html": [
       "<div>\n",
       "<style scoped>\n",
       "    .dataframe tbody tr th:only-of-type {\n",
       "        vertical-align: middle;\n",
       "    }\n",
       "\n",
       "    .dataframe tbody tr th {\n",
       "        vertical-align: top;\n",
       "    }\n",
       "\n",
       "    .dataframe thead th {\n",
       "        text-align: right;\n",
       "    }\n",
       "</style>\n",
       "<table border=\"1\" class=\"dataframe\">\n",
       "  <thead>\n",
       "    <tr style=\"text-align: right;\">\n",
       "      <th></th>\n",
       "      <th>Subject</th>\n",
       "      <th>Title</th>\n",
       "      <th>Institution</th>\n",
       "      <th>Learning Product</th>\n",
       "      <th>Level</th>\n",
       "      <th>Duration</th>\n",
       "      <th>Gained Skills</th>\n",
       "      <th>Rate</th>\n",
       "      <th>Reviews</th>\n",
       "    </tr>\n",
       "  </thead>\n",
       "  <tbody>\n",
       "    <tr>\n",
       "      <th>0</th>\n",
       "      <td>Business</td>\n",
       "      <td>Business Analysis &amp; Process Management</td>\n",
       "      <td>Coursera Project Network</td>\n",
       "      <td>Guided Project</td>\n",
       "      <td>Beginner</td>\n",
       "      <td>Less Than 2 Hours</td>\n",
       "      <td>Process Analysis, Business Process, Business A...</td>\n",
       "      <td>4.4</td>\n",
       "      <td>6100</td>\n",
       "    </tr>\n",
       "    <tr>\n",
       "      <th>2</th>\n",
       "      <td>Business</td>\n",
       "      <td>Financial Markets</td>\n",
       "      <td>Yale University</td>\n",
       "      <td>Course</td>\n",
       "      <td>Beginner</td>\n",
       "      <td>1 - 3 Months</td>\n",
       "      <td>Investment Banking, Risk Management, Financial...</td>\n",
       "      <td>4.8</td>\n",
       "      <td>30000</td>\n",
       "    </tr>\n",
       "    <tr>\n",
       "      <th>7</th>\n",
       "      <td>Business</td>\n",
       "      <td>Leadership Skills</td>\n",
       "      <td>IIMA - IIM Ahmedabad</td>\n",
       "      <td>Course</td>\n",
       "      <td>Beginner</td>\n",
       "      <td>1 - 3 Months</td>\n",
       "      <td>Leadership, Organizational Change, Organizatio...</td>\n",
       "      <td>4.9</td>\n",
       "      <td>1700</td>\n",
       "    </tr>\n",
       "    <tr>\n",
       "      <th>9</th>\n",
       "      <td>Business</td>\n",
       "      <td>Google Ads for Beginners</td>\n",
       "      <td>Coursera Project Network</td>\n",
       "      <td>Guided Project</td>\n",
       "      <td>Beginner</td>\n",
       "      <td>Less Than 2 Hours</td>\n",
       "      <td>Target Audience, Search Engine Marketing, Adve...</td>\n",
       "      <td>4.4</td>\n",
       "      <td>5500</td>\n",
       "    </tr>\n",
       "    <tr>\n",
       "      <th>10</th>\n",
       "      <td>Business</td>\n",
       "      <td>Behavioral Finance</td>\n",
       "      <td>Duke University</td>\n",
       "      <td>Course</td>\n",
       "      <td>Beginner</td>\n",
       "      <td>1 - 4 Weeks</td>\n",
       "      <td>Behavioral Economics, Decision Making, Financi...</td>\n",
       "      <td>4.4</td>\n",
       "      <td>4300</td>\n",
       "    </tr>\n",
       "    <tr>\n",
       "      <th>...</th>\n",
       "      <td>...</td>\n",
       "      <td>...</td>\n",
       "      <td>...</td>\n",
       "      <td>...</td>\n",
       "      <td>...</td>\n",
       "      <td>...</td>\n",
       "      <td>...</td>\n",
       "      <td>...</td>\n",
       "      <td>...</td>\n",
       "    </tr>\n",
       "    <tr>\n",
       "      <th>3382</th>\n",
       "      <td>Information Technology</td>\n",
       "      <td>Copy.AI for Beginners: Generate texts for vari...</td>\n",
       "      <td>Coursera Project Network</td>\n",
       "      <td>Guided Project</td>\n",
       "      <td>Beginner</td>\n",
       "      <td>Less Than 2 Hours</td>\n",
       "      <td>Workflow Management, Generative AI, Organizati...</td>\n",
       "      <td>3.6</td>\n",
       "      <td>8</td>\n",
       "    </tr>\n",
       "    <tr>\n",
       "      <th>3385</th>\n",
       "      <td>Information Technology</td>\n",
       "      <td>Getting Started with SAS Visual Analytics</td>\n",
       "      <td>SAS</td>\n",
       "      <td>Course</td>\n",
       "      <td>Beginner</td>\n",
       "      <td>1 - 4 Weeks</td>\n",
       "      <td>SAS (Software), Data Quality, Data Analysis, E...</td>\n",
       "      <td>4.3</td>\n",
       "      <td>767</td>\n",
       "    </tr>\n",
       "    <tr>\n",
       "      <th>3388</th>\n",
       "      <td>Information Technology</td>\n",
       "      <td>Advanced Deep Learning Techniques for Computer...</td>\n",
       "      <td>MathWorks</td>\n",
       "      <td>Course</td>\n",
       "      <td>Beginner</td>\n",
       "      <td>1 - 4 Weeks</td>\n",
       "      <td>Anomaly Detection, Image Analysis, Computer Vi...</td>\n",
       "      <td>3.6</td>\n",
       "      <td>33</td>\n",
       "    </tr>\n",
       "    <tr>\n",
       "      <th>3390</th>\n",
       "      <td>Information Technology</td>\n",
       "      <td>The Power of Machine Learning: Boost Business,...</td>\n",
       "      <td>SAS</td>\n",
       "      <td>Course</td>\n",
       "      <td>Beginner</td>\n",
       "      <td>1 - 3 Months</td>\n",
       "      <td>Predictive Modeling, Predictive Analytics, Dat...</td>\n",
       "      <td>3.5</td>\n",
       "      <td>51</td>\n",
       "    </tr>\n",
       "    <tr>\n",
       "      <th>3395</th>\n",
       "      <td>Information Technology</td>\n",
       "      <td>Generative AI Applications and Popular Tools</td>\n",
       "      <td>Edureka</td>\n",
       "      <td>Course</td>\n",
       "      <td>Beginner</td>\n",
       "      <td>1 - 3 Months</td>\n",
       "      <td>Generative AI, Computer Vision, Image Analysis...</td>\n",
       "      <td>3.1</td>\n",
       "      <td>7</td>\n",
       "    </tr>\n",
       "  </tbody>\n",
       "</table>\n",
       "<p>1741 rows × 9 columns</p>\n",
       "</div>"
      ],
      "text/plain": [
       "                     Subject  \\\n",
       "0                   Business   \n",
       "2                   Business   \n",
       "7                   Business   \n",
       "9                   Business   \n",
       "10                  Business   \n",
       "...                      ...   \n",
       "3382  Information Technology   \n",
       "3385  Information Technology   \n",
       "3388  Information Technology   \n",
       "3390  Information Technology   \n",
       "3395  Information Technology   \n",
       "\n",
       "                                                  Title  \\\n",
       "0                Business Analysis & Process Management   \n",
       "2                                     Financial Markets   \n",
       "7                                     Leadership Skills   \n",
       "9                              Google Ads for Beginners   \n",
       "10                                   Behavioral Finance   \n",
       "...                                                 ...   \n",
       "3382  Copy.AI for Beginners: Generate texts for vari...   \n",
       "3385         Getting Started with SAS Visual Analytics    \n",
       "3388  Advanced Deep Learning Techniques for Computer...   \n",
       "3390  The Power of Machine Learning: Boost Business,...   \n",
       "3395       Generative AI Applications and Popular Tools   \n",
       "\n",
       "                   Institution Learning Product     Level           Duration  \\\n",
       "0     Coursera Project Network   Guided Project  Beginner  Less Than 2 Hours   \n",
       "2              Yale University           Course  Beginner       1 - 3 Months   \n",
       "7         IIMA - IIM Ahmedabad           Course  Beginner       1 - 3 Months   \n",
       "9     Coursera Project Network   Guided Project  Beginner  Less Than 2 Hours   \n",
       "10             Duke University           Course  Beginner        1 - 4 Weeks   \n",
       "...                        ...              ...       ...                ...   \n",
       "3382  Coursera Project Network   Guided Project  Beginner  Less Than 2 Hours   \n",
       "3385                       SAS           Course  Beginner        1 - 4 Weeks   \n",
       "3388                 MathWorks           Course  Beginner        1 - 4 Weeks   \n",
       "3390                       SAS           Course  Beginner       1 - 3 Months   \n",
       "3395                   Edureka           Course  Beginner       1 - 3 Months   \n",
       "\n",
       "                                          Gained Skills  Rate  Reviews  \n",
       "0     Process Analysis, Business Process, Business A...   4.4     6100  \n",
       "2     Investment Banking, Risk Management, Financial...   4.8    30000  \n",
       "7     Leadership, Organizational Change, Organizatio...   4.9     1700  \n",
       "9     Target Audience, Search Engine Marketing, Adve...   4.4     5500  \n",
       "10    Behavioral Economics, Decision Making, Financi...   4.4     4300  \n",
       "...                                                 ...   ...      ...  \n",
       "3382  Workflow Management, Generative AI, Organizati...   3.6        8  \n",
       "3385  SAS (Software), Data Quality, Data Analysis, E...   4.3      767  \n",
       "3388  Anomaly Detection, Image Analysis, Computer Vi...   3.6       33  \n",
       "3390  Predictive Modeling, Predictive Analytics, Dat...   3.5       51  \n",
       "3395  Generative AI, Computer Vision, Image Analysis...   3.1        7  \n",
       "\n",
       "[1741 rows x 9 columns]"
      ]
     },
     "execution_count": 16,
     "metadata": {},
     "output_type": "execute_result"
    }
   ],
   "source": [
    "coursera[coursera['Level'] == 'Beginner']"
   ]
  },
  {
   "cell_type": "code",
   "execution_count": 17,
   "id": "0a353cb0",
   "metadata": {},
   "outputs": [
    {
     "data": {
      "text/plain": [
       "array(['Coursera Project Network', 'Yale University',\n",
       "       'Università Bocconi', 'Johns Hopkins University',\n",
       "       'IIMA - IIM Ahmedabad', 'Duke University',\n",
       "       'The Hong Kong University of Science and Technology',\n",
       "       'The State University of New York', 'University of London',\n",
       "       'University of Michigan', 'Interactive Brokers',\n",
       "       'Tally Education and Distribution Services Private Limited',\n",
       "       'Google', 'Meta', 'Howard University', 'Stanford University',\n",
       "       'University of California, Irvine',\n",
       "       'Korea Advanced Institute of Science and Technology(KAIST)',\n",
       "       'DeepLearning.AI', 'University of California, Davis', 'Microsoft',\n",
       "       'Intuit', 'Lund University', 'IBM', 'University of Pennsylvania',\n",
       "       'Emory University', 'Erasmus University Rotterdam', 'Adobe',\n",
       "       'Copenhagen Business School', 'Board Infinity',\n",
       "       'IE Business School', 'University of Virginia', 'Starweaver',\n",
       "       'Universidad Nacional Autónoma de México',\n",
       "       'The University of Sydney', 'Northwestern University',\n",
       "       'West Virginia University',\n",
       "       'Automatic Data Processing, Inc. (ADP)', 'IESE Business School',\n",
       "       'California Institute of the Arts', 'PwC India',\n",
       "       'Vanderbilt University', 'SAP', 'HRCI', 'PwC', 'Workday',\n",
       "       'Macquarie University', 'University of Illinois Urbana-Champaign',\n",
       "       'Columbia University',\n",
       "       'Rutgers the State University of New Jersey', 'SkillUp EdTech',\n",
       "       'Salesforce', 'University of Colorado Boulder',\n",
       "       'New York Institute of Finance', 'University of Minnesota',\n",
       "       'Kennesaw State University',\n",
       "       'University of Maryland, College Park', 'Measure What Matters',\n",
       "       'University of Geneva', 'Keller Williams', 'Unilever',\n",
       "       'EDHEC Business School', 'ESSEC Business School', 'HEC Paris',\n",
       "       'Rice University', 'CVS Health',\n",
       "       'Ludwig-Maximilians-Universität München (LMU)', 'Berklee',\n",
       "       'HubSpot Academy', 'Indian School of Business', 'Xbox',\n",
       "       'Universidade de São Paulo', 'Politecnico di Milano',\n",
       "       'Georgia Institute of Technology',\n",
       "       'Case Western Reserve University', 'Universidad de Palermo',\n",
       "       'SoFi', 'University of Glasgow',\n",
       "       'Pontificia Universidad Católica de Chile', 'Yonsei University',\n",
       "       'University of Toronto', 'Google Cloud', 'Illinois Tech',\n",
       "       'University of Colorado System', 'Institute for the Future',\n",
       "       'University of Florida', 'Universidad Austral',\n",
       "       'Dubai College of Tourism', 'Universidad de los Andes',\n",
       "       'Tecnológico de Monterrey', 'Digital Marketing Institute',\n",
       "       'Coursera', 'University of Virginia Darden School Foundation',\n",
       "       'University of Washington', 'Coursera Instructor Network',\n",
       "       'Fundação Instituto de Administração', 'London Business School',\n",
       "       'Dartmouth College', 'Insper', 'LearnKartS',\n",
       "       'Advancing Women in Tech',\n",
       "       'Technion - Israel Institute of Technology',\n",
       "       'University of New Mexico', 'The University of Melbourne',\n",
       "       'Sciences Po', 'Universitat Autònoma de Barcelona',\n",
       "       'Technical University of Munich (TUM)',\n",
       "       'Queen Mary University of London', 'LearnQuest',\n",
       "       'École des Ponts ParisTech', 'INSEAD', 'EIT Digital', 'Caltech',\n",
       "       'Institut Mines-Télécom', 'Corporate Finance Institute',\n",
       "       'Università di Napoli Federico II',\n",
       "       'Association of International Certified Professional Accountants',\n",
       "       'Peking University', 'Universidade Estadual de Campinas',\n",
       "       'Knowledge Accelerators', 'Fractal Analytics',\n",
       "       'École Polytechnique Fédérale de Lausanne',\n",
       "       'University of Cape Town', 'Aptly', 'University at Buffalo',\n",
       "       'University of Lausanne', 'Universidad de Chile',\n",
       "       'University of Manchester', 'ESCP Business School', 'GitLab',\n",
       "       'IIT Bombay', 'Michigan State University', 'Capitals Coalition',\n",
       "       'BCG', 'Amazon Ads', 'Northeastern University', 'L&T EduTech',\n",
       "       'UiPath', 'Universitat de Barcelona', 'Atlassian',\n",
       "       'Ball State University', 'Amazon Web Services', 'Epic Games',\n",
       "       'University of California San Diego',\n",
       "       'Hebrew University of Jerusalem', 'University of Alberta',\n",
       "       'University of California, Santa Cruz', 'Scrimba', 'EC-Council',\n",
       "       'Multiple educators', 'New York University', 'Codio', 'Arm',\n",
       "       'Snowflake', 'Packt', 'ConsenSys Academy', 'Infosec',\n",
       "       'Instituto Tecnológico de Aeronáutica', 'JetBrains',\n",
       "       'The Linux Foundation', 'Amazon', 'EDUCBA',\n",
       "       'Alberta Machine Intelligence Institute',\n",
       "       'National Taiwan University', 'University of Leeds',\n",
       "       'Indian Institute of Technology Guwahati', 'KodeKloud',\n",
       "       'Google AR & VR', 'Whizlabs', 'The University of Edinburgh',\n",
       "       'Birla Institute of Technology & Science, Pilani',\n",
       "       'Sungkyunkwan University', 'The University of Chicago', 'NIIT',\n",
       "       'Imperial College London', 'Edureka', 'Nanjing University', 'SAS',\n",
       "       'Simplilearn', 'The University of Tokyo',\n",
       "       'Universidad ORT Uruguay', 'ISC2', 'Clemson University',\n",
       "       'Fred Hutchinson Cancer Center', 'CentraleSupélec',\n",
       "       'Pontificia Universidad Católica del Perú',\n",
       "       'Arizona State University', 'Tableau Learning Partner', 'NVIDIA',\n",
       "       'University of Amsterdam', 'MathWorks', 'Edge Impulse',\n",
       "       'CertNexus', 'Eindhoven University of Technology',\n",
       "       'The University of North Carolina at Chapel Hill', 'ISACA',\n",
       "       'Genentech', 'Campus BBVA', 'Wesleyan University',\n",
       "       'King Abdullah University of Science and Technology',\n",
       "       'American Psychological Association',\n",
       "       'Karlsruhe Institute of Technology', 'Cloudera',\n",
       "       'University of Zurich', 'McMaster University', 'Maven Analytics',\n",
       "       'Universiteit Leiden', 'MongoDB Inc.'], dtype=object)"
      ]
     },
     "execution_count": 17,
     "metadata": {},
     "output_type": "execute_result"
    }
   ],
   "source": [
    "coursera['Institution'].unique()"
   ]
  },
  {
   "cell_type": "code",
   "execution_count": 18,
   "id": "e081dc18",
   "metadata": {},
   "outputs": [
    {
     "data": {
      "text/plain": [
       "array(['Business Analysis & Process Management',\n",
       "       'Getting Started with Microsoft Excel', 'Financial Markets', ...,\n",
       "       'Getting Started with SAS Visual Analytics ',\n",
       "       'Predictive Modeling with Logistic Regression using SAS ',\n",
       "       'Predictive Modeling and Analytics '], dtype=object)"
      ]
     },
     "execution_count": 18,
     "metadata": {},
     "output_type": "execute_result"
    }
   ],
   "source": [
    "coursera['Title'].unique()"
   ]
  },
  {
   "cell_type": "code",
   "execution_count": 19,
   "id": "7ab60fd9",
   "metadata": {},
   "outputs": [
    {
     "data": {
      "text/plain": [
       "array(['Beginner', 'Intermediate', 'Mixed', 'Advanced'], dtype=object)"
      ]
     },
     "execution_count": 19,
     "metadata": {},
     "output_type": "execute_result"
    }
   ],
   "source": [
    "coursera['Level'].unique()"
   ]
  },
  {
   "cell_type": "code",
   "execution_count": 20,
   "id": "a1f79fdb",
   "metadata": {},
   "outputs": [
    {
     "data": {
      "text/plain": [
       "array([4.4, 4.6, 4.8, 4.7, 4.9, 4.3, 4.5, 4.2, 4.1, 5. , 3.9, 2.9, 4. ,\n",
       "       3.8, 3.4, 3.1, 2.7, 3.5, 2.6, 3.7, 3. , 3.6, 3.2, 3.3, 1.9, 2.8])"
      ]
     },
     "execution_count": 20,
     "metadata": {},
     "output_type": "execute_result"
    }
   ],
   "source": [
    "coursera['Rate'].unique()"
   ]
  },
  {
   "cell_type": "code",
   "execution_count": 21,
   "id": "8a1e0b70",
   "metadata": {},
   "outputs": [
    {
     "data": {
      "text/html": [
       "<div>\n",
       "<style scoped>\n",
       "    .dataframe tbody tr th:only-of-type {\n",
       "        vertical-align: middle;\n",
       "    }\n",
       "\n",
       "    .dataframe tbody tr th {\n",
       "        vertical-align: top;\n",
       "    }\n",
       "\n",
       "    .dataframe thead th {\n",
       "        text-align: right;\n",
       "    }\n",
       "</style>\n",
       "<table border=\"1\" class=\"dataframe\">\n",
       "  <thead>\n",
       "    <tr style=\"text-align: right;\">\n",
       "      <th></th>\n",
       "      <th>Title</th>\n",
       "      <th>Subject</th>\n",
       "    </tr>\n",
       "  </thead>\n",
       "  <tbody>\n",
       "    <tr>\n",
       "      <th>3394</th>\n",
       "      <td>Clinical Data Models and Data Quality Assessments</td>\n",
       "      <td>Information Technology</td>\n",
       "    </tr>\n",
       "    <tr>\n",
       "      <th>3395</th>\n",
       "      <td>Generative AI Applications and Popular Tools</td>\n",
       "      <td>Information Technology</td>\n",
       "    </tr>\n",
       "    <tr>\n",
       "      <th>3396</th>\n",
       "      <td>Data Science in Real Life</td>\n",
       "      <td>Information Technology</td>\n",
       "    </tr>\n",
       "    <tr>\n",
       "      <th>3397</th>\n",
       "      <td>Recommender Systems:  Evaluation and Metrics</td>\n",
       "      <td>Information Technology</td>\n",
       "    </tr>\n",
       "    <tr>\n",
       "      <th>3398</th>\n",
       "      <td>Data Engineering with Rust</td>\n",
       "      <td>Information Technology</td>\n",
       "    </tr>\n",
       "    <tr>\n",
       "      <th>3399</th>\n",
       "      <td>Python Data Products for Predictive Analytics</td>\n",
       "      <td>Information Technology</td>\n",
       "    </tr>\n",
       "    <tr>\n",
       "      <th>3400</th>\n",
       "      <td>Basic Data Processing and Visualization</td>\n",
       "      <td>Information Technology</td>\n",
       "    </tr>\n",
       "    <tr>\n",
       "      <th>3401</th>\n",
       "      <td>Machine Learning: Concepts and Applications</td>\n",
       "      <td>Information Technology</td>\n",
       "    </tr>\n",
       "    <tr>\n",
       "      <th>3402</th>\n",
       "      <td>Random Models, Nested and Split-plot Designs</td>\n",
       "      <td>Information Technology</td>\n",
       "    </tr>\n",
       "    <tr>\n",
       "      <th>3403</th>\n",
       "      <td>Finalize a Data Science Project</td>\n",
       "      <td>Information Technology</td>\n",
       "    </tr>\n",
       "  </tbody>\n",
       "</table>\n",
       "</div>"
      ],
      "text/plain": [
       "                                                  Title  \\\n",
       "3394  Clinical Data Models and Data Quality Assessments   \n",
       "3395       Generative AI Applications and Popular Tools   \n",
       "3396                          Data Science in Real Life   \n",
       "3397       Recommender Systems:  Evaluation and Metrics   \n",
       "3398                         Data Engineering with Rust   \n",
       "3399      Python Data Products for Predictive Analytics   \n",
       "3400            Basic Data Processing and Visualization   \n",
       "3401        Machine Learning: Concepts and Applications   \n",
       "3402       Random Models, Nested and Split-plot Designs   \n",
       "3403                    Finalize a Data Science Project   \n",
       "\n",
       "                     Subject  \n",
       "3394  Information Technology  \n",
       "3395  Information Technology  \n",
       "3396  Information Technology  \n",
       "3397  Information Technology  \n",
       "3398  Information Technology  \n",
       "3399  Information Technology  \n",
       "3400  Information Technology  \n",
       "3401  Information Technology  \n",
       "3402  Information Technology  \n",
       "3403  Information Technology  "
      ]
     },
     "execution_count": 21,
     "metadata": {},
     "output_type": "execute_result"
    }
   ],
   "source": [
    "coursera[['Title', 'Subject']].tail(10)"
   ]
  },
  {
   "cell_type": "markdown",
   "id": "0f5e3a2a-bbb7-4d06-8220-c93277b70146",
   "metadata": {},
   "source": [
    "#### 5. Uniqueness: \n",
    "Check for and remove duplicate records to prevent skewed analysis results.\n"
   ]
  },
  {
   "cell_type": "code",
   "execution_count": 22,
   "id": "a509a7aa-58f4-4d39-8eb8-e8298a21f2a7",
   "metadata": {},
   "outputs": [
    {
     "data": {
      "text/html": [
       "<div>\n",
       "<style scoped>\n",
       "    .dataframe tbody tr th:only-of-type {\n",
       "        vertical-align: middle;\n",
       "    }\n",
       "\n",
       "    .dataframe tbody tr th {\n",
       "        vertical-align: top;\n",
       "    }\n",
       "\n",
       "    .dataframe thead th {\n",
       "        text-align: right;\n",
       "    }\n",
       "</style>\n",
       "<table border=\"1\" class=\"dataframe\">\n",
       "  <thead>\n",
       "    <tr style=\"text-align: right;\">\n",
       "      <th></th>\n",
       "      <th>Subject</th>\n",
       "      <th>Title</th>\n",
       "      <th>Institution</th>\n",
       "      <th>Learning Product</th>\n",
       "      <th>Level</th>\n",
       "      <th>Duration</th>\n",
       "      <th>Gained Skills</th>\n",
       "      <th>Rate</th>\n",
       "      <th>Reviews</th>\n",
       "    </tr>\n",
       "  </thead>\n",
       "  <tbody>\n",
       "  </tbody>\n",
       "</table>\n",
       "</div>"
      ],
      "text/plain": [
       "Empty DataFrame\n",
       "Columns: [Subject, Title, Institution, Learning Product, Level, Duration, Gained Skills, Rate, Reviews]\n",
       "Index: []"
      ]
     },
     "execution_count": 22,
     "metadata": {},
     "output_type": "execute_result"
    }
   ],
   "source": [
    "coursera[coursera.duplicated(keep=False)]"
   ]
  },
  {
   "cell_type": "code",
   "execution_count": 23,
   "id": "b96cb07c",
   "metadata": {},
   "outputs": [
    {
     "data": {
      "text/plain": [
       "47"
      ]
     },
     "execution_count": 23,
     "metadata": {},
     "output_type": "execute_result"
    }
   ],
   "source": [
    "coursera.duplicated(subset=['Title', 'Subject']).sum()"
   ]
  },
  {
   "cell_type": "code",
   "execution_count": 24,
   "id": "faaf71ba",
   "metadata": {},
   "outputs": [
    {
     "data": {
      "text/plain": [
       "array(['Beginner', 'Intermediate', 'Mixed', 'Advanced'], dtype=object)"
      ]
     },
     "execution_count": 24,
     "metadata": {},
     "output_type": "execute_result"
    }
   ],
   "source": [
    "coursera['Level'].unique()"
   ]
  },
  {
   "cell_type": "code",
   "execution_count": 25,
   "id": "e0c4db5f",
   "metadata": {},
   "outputs": [
    {
     "data": {
      "text/plain": [
       "array(['Business', 'Computer Science', 'Data Science',\n",
       "       'Information Technology'], dtype=object)"
      ]
     },
     "execution_count": 25,
     "metadata": {},
     "output_type": "execute_result"
    }
   ],
   "source": [
    "coursera['Subject'].unique()"
   ]
  },
  {
   "cell_type": "markdown",
   "id": "c7724ac2-4ea2-4cf4-a9e0-e64368f87b92",
   "metadata": {},
   "source": [
    "#### 6. Completeness: \n",
    "Ensure that no critical data is missing. This might mean checking for null values or required fields that are empty.\n",
    "\n",
    "We will start by checking the dataset for missing or null values. For this, we can use the isna() method which returns a dataframe of boolean values indicating if a field is null or not. To group all missing values by column, we can include the sum() method."
   ]
  },
  {
   "cell_type": "code",
   "execution_count": 26,
   "id": "48a4de54-a344-4b94-9908-9528c15c13f7",
   "metadata": {},
   "outputs": [
    {
     "data": {
      "text/plain": [
       "Subject             0\n",
       "Title               0\n",
       "Institution         0\n",
       "Learning Product    0\n",
       "Level               0\n",
       "Duration            0\n",
       "Gained Skills       0\n",
       "Rate                0\n",
       "Reviews             0\n",
       "dtype: int64"
      ]
     },
     "execution_count": 26,
     "metadata": {},
     "output_type": "execute_result"
    }
   ],
   "source": [
    "coursera.isnull().sum().sort_values(ascending = False)"
   ]
  },
  {
   "cell_type": "markdown",
   "id": "b40de63c-5a1d-49ed-a87e-c5229ee08bbe",
   "metadata": {},
   "source": [
    "#### 7. Check Accuracy:\n",
    "\n",
    "Verify that the data is correct and precise. This could involve comparing data samples with known sources or using validation rules.\n",
    "\n",
    "**The process includes:**\n",
    "1. Validating the appropriateness of data types for the dataset.\n",
    "2. Identifying outliers  using established validation  rule"
   ]
  },
  {
   "cell_type": "code",
   "execution_count": 27,
   "id": "68be5334-ae10-4abd-8097-3259fe5e72c8",
   "metadata": {},
   "outputs": [
    {
     "data": {
      "text/plain": [
       "Subject              object\n",
       "Title                object\n",
       "Institution          object\n",
       "Learning Product     object\n",
       "Level                object\n",
       "Duration             object\n",
       "Gained Skills        object\n",
       "Rate                float64\n",
       "Reviews               int64\n",
       "dtype: object"
      ]
     },
     "execution_count": 27,
     "metadata": {},
     "output_type": "execute_result"
    }
   ],
   "source": [
    "coursera.dtypes"
   ]
  },
  {
   "cell_type": "markdown",
   "id": "4aca9d42-add6-45db-92cf-1f6dae5f277b",
   "metadata": {},
   "source": [
    "**What is an Outlier?** \n",
    "Outlier is an row/observation that appears far away and diverges from an overall pattern in a sample.\n",
    "\n",
    "**What are the types of Outliers?**\n",
    "1. Univariate: These outliers can be found when we look at distribution of a single variable\n",
    "2. Multivariate: are outliers in an n-dimensional space. In order to find them, you have to look at distributions in multi-dimensions. example (hight=100, weight=100) for a person\n",
    "\n",
    "**What causes Outliers?**\n",
    "Whenever we come across outliers, the ideal way to tackle them is to find out the reason of having these outliers. The method to deal with them would then depend on the reason of their occurrence.\n",
    "\n",
    "Let’s understand various types of outliers:\n",
    "\n",
    "1. Data Entry Errors:- Human errors such as errors caused during data collection, recording, or entry can cause outliers in data.\n",
    "2. Measurement Error: It is the most common source of outliers. This is caused when the measurement instrument used turns out to be faulty.\n",
    "3. Data Processing Error: Whenever we perform data mining, we extract data from multiple sources. It is possible that some manipulation or extraction errors may lead to outliers in the dataset.\n",
    "4. Sampling error: For instance, we have to measure the height of athletes. By mistake, we include a few basketball players in the sample. This inclusion is likely to cause outliers in the dataset.\n",
    "5. Natural Outlier: When an outlier is not artificial (due to error), it is a natural outlier. For instance: In my last assignment with one of the renowned insurance company, I noticed that the performance of top 50 financial advisors was far higher than rest of the population. Surprisingly, it was not due to any error. Hence, whenever we perform any data mining activity with advisors, we used to treat this segment separately.\n",
    "\n",
    "\n",
    "**What is the impact of Outliers on a dataset?**\n",
    "\n",
    "\n",
    "![image.png](https://www.analyticsvidhya.com/wp-content/uploads/2015/02/Outlier_31.png)\n",
    "\n",
    "\n",
    "\n",
    "**How to detect Outliers?**\n",
    "\n",
    "1. Most commonly used method to detect outliers is visualization (Univariate Graphical Analysis).\n",
    "\n",
    "We use 3 common visualization methods:\n",
    ">- Box-plot: A box plot is a method for graphically depicting groups of numerical data through their quartiles. The box extends from the Q1 to Q3 quartile values of the data, with a line at the median (Q2). The whiskers extend from the edges of the box to show the range of the data. Outlier points are those past the end of the whiskers. Box plots show robust measures of location and spread as well as providing information about symmetry and outliers.\n",
    ">\n",
    ">  \n",
    ">![image.png](https://miro.medium.com/v2/resize:fit:698/format:webp/1*VK5iHA2AB28HSZwWwUbNYg.png)\n",
    ">\n",
    ">\n",
    ">- Histogram\n",
    ">- Scatter Plot: A scatter plot is a mathematical diagram using Cartesian coordinates to display values for two variables for a set of data. The data are displayed as a collection of points, each having the value of one variable determining the position on the horizontal axis and the value of the other variable determining the position on the vertical axis. The points that are far from the population can be termed as an outlier.\n",
    ">\n",
    ">  \n",
    ">![image.png](https://miro.medium.com/v2/resize:fit:4800/format:webp/1*Ov6aH-8yIwNoUxtMFwgx4g.png)\n",
    ">\n",
    ">\n",
    "\n",
    "2. Using statistical method (Univariate Non-Graphical analysis):\n",
    ">- Any value, which is beyond the range of -1.5 x IQR to 1.5 x IQR\n",
    " \n",
    "![image.png](https://www.whatissixsigma.net/wp-content/uploads/2015/07/Box-Plot-Diagram-to-identify-Outliers-figure-1.png)\n",
    "\n",
    ">- Use capping methods. Any value which out of range of 5th and 95th percentile can be considered as outlier\n",
    ">- Data points, three or more standard deviation away from mean are considered outlier: The Z-score is the signed number of standard deviations by which the value of an observation or data point is above the mean value of what is being observed or measured. While calculating the Z-score we re-scale and center the data and look for data points that are too far from zero. These data points which are way too far from zero will be treated as the outliers. In most of the cases, a threshold of 3 or -3 is used i.e if the Z-score value is greater than or less than 3 or -3 respectively, that data point will be identified as outliers.\n",
    "> - Outlier detection is merely a special case of the examination of data for influential data points and it also depends on the business understanding\n"
   ]
  },
  {
   "cell_type": "code",
   "execution_count": null,
   "id": "74ea6194-cc01-45d8-be38-c4543eb1714e",
   "metadata": {},
   "outputs": [],
   "source": [
    "# go to univariate graphical analysis\n",
    "# go to lesson : data visualisation 1 - chart type section\n",
    "# then go to univariate graphical analysis\n",
    "# detect outliers using graphs varbaly"
   ]
  },
  {
   "cell_type": "code",
   "execution_count": null,
   "id": "48ecf77b-480c-4f64-9485-95be805bc357",
   "metadata": {},
   "outputs": [],
   "source": [
    "# go to lesson: statistics 1 then statistics 3\n",
    "# then go to univariate Non graphical analysis\n",
    "# detect outliers using numerical statistics "
   ]
  },
  {
   "cell_type": "code",
   "execution_count": null,
   "id": "ee200da8-62b0-492d-b118-f4d665a1fb16",
   "metadata": {},
   "outputs": [],
   "source": []
  },
  {
   "cell_type": "code",
   "execution_count": null,
   "id": "4e66d611-6958-4860-8522-9ada7fce40b0",
   "metadata": {},
   "outputs": [],
   "source": [
    "# go to delete ouliers"
   ]
  },
  {
   "attachments": {},
   "cell_type": "markdown",
   "id": "4e886ec7-388c-414b-ada7-803c2fb1f2cb",
   "metadata": {},
   "source": [
    "## 2. Data Cleaning: \n",
    "\n",
    "Preliminary findings from data profiling can lead to cleaning the data by:\n",
    "- Handling missing values\n",
    "- Correcting errors.\n",
    "- Dealing with outliers.\n",
    "\n",
    "-------------------\n",
    "\n"
   ]
  },
  {
   "cell_type": "markdown",
   "id": "21876b48-f5ec-4970-85a9-0520d45d8841",
   "metadata": {},
   "source": [
    "### Handling missing values:"
   ]
  },
  {
   "cell_type": "markdown",
   "id": "c890d5a2-2a65-4090-9427-f89c0f011d3f",
   "metadata": {},
   "source": [
    "**Why my data has missing values?**\n",
    "They may occur at two stages:\n",
    "1. Data Extraction: It is possible that there are problems with extraction process. Errors at data extraction stage are typically easy to find and can be corrected easily as well.\n",
    "2. Data collection: These errors occur at time of data collection and are harder to correct.\n",
    "\n",
    "**Why do we need to handle the missing data?**\n",
    "To avoid:\n",
    "- Bias the conclusions.\n",
    "- Leading the business to make wrong decisions.\n",
    "\n",
    "**Which are the methods to treat missing values ?**\n",
    "1. Deletion: we delete rows where any of the variable is missing. Simplicity is one of the major advantage of this method, but this method reduces the power of model because it reduces the sample size.\n",
    "\n",
    "2. Imputation: is a method to fill in the missing values with estimated ones. This imputation is one of the most frequently used methods.\n",
    "\n",
    "    2.1. Mean/ Mode/ Median Imputation: It consists of replacing the missing data for a given attribute by the mean or median (quantitative attribute) or mode (qualitative attribute) of all known values of that variable.\n",
    "    > It can be of two types:\n",
    "    > - Generalized Imputation: In this case, we calculate the mean or median for all non missing values of that variable then replace missing value with mean or median.\n",
    "    > - Similar case Imputation: In this case, we calculate average for each group individually of non missing values then replace the missing value based on the group.\n",
    "\n",
    "    2.2. Constant Value\n",
    "   \n",
    "    2.3. Forward Filling\n",
    "   \n",
    "    2.4. Backward Filling\n",
    "\n",
    "6. Prediction Model:  Prediction model is one of the sophisticated method for handling missing data. Here, we create a predictive model to estimate values that will substitute the missing data.  In this case, we divide our data set into two sets: One set with no missing values for the variable and another one with missing values. First data set become training data set of the model while second data set with missing values is test data set and variable with missing values is treated as target variable. Next, we create a model to predict target variable based on other attributes of the training data set and populate missing values of test data set.\n",
    "\n",
    "> There are 2 drawbacks for this approach:\n",
    "> - The model estimated values are usually more well-behaved than the true values\n",
    "> - If there are no relationships with attributes in the data set and the attribute with missing values, then the model will not be precise for estimating missing values.\n",
    "\n",
    "9. KNN Imputation: In this method of imputation, the missing values of an attribute are imputed using the given number of attributes that are most similar to the attribute whose values are missing. The similarity of two attributes is determined using a distance function. It is also known to have certain advantage & disadvantages.\n",
    "\n",
    "   > **Advantages:**\n",
    "   > - k-nearest neighbour can predict both qualitative & quantitative attributes\n",
    "   > - Creation of predictive model for each attribute with missing data is not required\n",
    "   > - Attributes with multiple missing values can be easily treated\n",
    "   > - Correlation structure of the data is taken into consideration\n",
    "\n",
    "   > **Disadvantage:**\n",
    "   > - KNN algorithm is very time-consuming in analyzing large database. It searches through all the dataset looking for the most similar instances.\n",
    "   > - Choice of k-value is very critical. Higher value of k would include attributes which are significantly different from what we need whereas lower value of k implies missing out of significant attributes.\n",
    "\n",
    "--------------------\n"
   ]
  },
  {
   "cell_type": "code",
   "execution_count": null,
   "id": "57e741fb-71c1-46ad-a526-d8f0b1564dc3",
   "metadata": {},
   "outputs": [],
   "source": [
    "coursera[['Level', 'Learning Product', 'Duration']] = coursera['level'].str.split(' · ', expand=True)"
   ]
  },
  {
   "cell_type": "code",
   "execution_count": 133,
   "id": "cc0affe7",
   "metadata": {},
   "outputs": [],
   "source": [
    "def convert_reviews(review_str):\n",
    "\n",
    "    review_str = review_str.replace('reviews', '').strip()\n",
    "\n",
    "\n",
    "    if 'K' in review_str:\n",
    "        # Remove 'K' and convert to float, then multiply by 1000\n",
    "        return float(review_str.replace('K', '')) * 1000\n",
    "    else:\n",
    "\n",
    "        return int(review_str)\n",
    "\n",
    "\n",
    "coursera['reviews'] = coursera['reviews'].apply(convert_reviews)"
   ]
  },
  {
   "cell_type": "code",
   "execution_count": 134,
   "id": "d5f4799a",
   "metadata": {},
   "outputs": [],
   "source": [
    "# we converted from float to int\n",
    "coursera['reviews']=coursera['reviews'].astype(int)"
   ]
  },
  {
   "cell_type": "code",
   "execution_count": 135,
   "id": "be013938",
   "metadata": {},
   "outputs": [],
   "source": [
    "coursera['skills'] = coursera['skills'].str.replace(\"Skills you'll gain: \", \"\")\n",
    "coursera.rename(columns={'skills': \"Gained Skills\"}, inplace=True)"
   ]
  },
  {
   "cell_type": "code",
   "execution_count": 136,
   "id": "a7f76fc1",
   "metadata": {},
   "outputs": [],
   "source": [
    "coursera = coursera.drop(columns=['level'])"
   ]
  },
  {
   "cell_type": "code",
   "execution_count": 232,
   "id": "e0513e4b",
   "metadata": {},
   "outputs": [],
   "source": [
    "new_order = [\n",
    "    \"Subject\", \"title\", \"institution\", \"Learning Product\", \"Level\", \n",
    "    \"Duration\", \"Gained Skills\", \"rate\", \"reviews\"\n",
    "]\n",
    "coursera = coursera.reindex(columns=new_order)"
   ]
  },
  {
   "cell_type": "code",
   "execution_count": 234,
   "id": "00296b3e",
   "metadata": {},
   "outputs": [],
   "source": [
    "column_mapping = {\n",
    "    \"Subject\": \"Subject\",\n",
    "    \"title\": \"Title\",\n",
    "    \"institution\": \"Institution\",\n",
    "    \"Learning Product\": \"Learning Product\",\n",
    "    \"Level\": \"Level\",\n",
    "    \"Duration\": \"Duration\",\n",
    "    \"Gained Skills\": \"Gained Skills\",\n",
    "    \"rate\": \"Rate\",\n",
    "    \"reviews\": \"Reviews\"\n",
    "}\n",
    "coursera = coursera.rename(columns=column_mapping)[list(column_mapping.values())]"
   ]
  },
  {
   "cell_type": "code",
   "execution_count": 28,
   "id": "d2d707d3",
   "metadata": {},
   "outputs": [
    {
     "data": {
      "text/html": [
       "<div>\n",
       "<style scoped>\n",
       "    .dataframe tbody tr th:only-of-type {\n",
       "        vertical-align: middle;\n",
       "    }\n",
       "\n",
       "    .dataframe tbody tr th {\n",
       "        vertical-align: top;\n",
       "    }\n",
       "\n",
       "    .dataframe thead th {\n",
       "        text-align: right;\n",
       "    }\n",
       "</style>\n",
       "<table border=\"1\" class=\"dataframe\">\n",
       "  <thead>\n",
       "    <tr style=\"text-align: right;\">\n",
       "      <th></th>\n",
       "      <th>Subject</th>\n",
       "      <th>Title</th>\n",
       "      <th>Institution</th>\n",
       "      <th>Learning Product</th>\n",
       "      <th>Level</th>\n",
       "      <th>Duration</th>\n",
       "      <th>Gained Skills</th>\n",
       "      <th>Rate</th>\n",
       "      <th>Reviews</th>\n",
       "    </tr>\n",
       "  </thead>\n",
       "  <tbody>\n",
       "    <tr>\n",
       "      <th>0</th>\n",
       "      <td>Business</td>\n",
       "      <td>Business Analysis &amp; Process Management</td>\n",
       "      <td>Coursera Project Network</td>\n",
       "      <td>Guided Project</td>\n",
       "      <td>Beginner</td>\n",
       "      <td>Less Than 2 Hours</td>\n",
       "      <td>Process Analysis, Business Process, Business A...</td>\n",
       "      <td>4.4</td>\n",
       "      <td>6100</td>\n",
       "    </tr>\n",
       "    <tr>\n",
       "      <th>1</th>\n",
       "      <td>Business</td>\n",
       "      <td>Getting Started with Microsoft Excel</td>\n",
       "      <td>Coursera Project Network</td>\n",
       "      <td>Guided Project</td>\n",
       "      <td>Intermediate</td>\n",
       "      <td>Less Than 2 Hours</td>\n",
       "      <td>Microsoft Excel, Excel Formulas, Spreadsheet S...</td>\n",
       "      <td>4.6</td>\n",
       "      <td>11000</td>\n",
       "    </tr>\n",
       "    <tr>\n",
       "      <th>2</th>\n",
       "      <td>Business</td>\n",
       "      <td>Financial Markets</td>\n",
       "      <td>Yale University</td>\n",
       "      <td>Course</td>\n",
       "      <td>Beginner</td>\n",
       "      <td>1 - 3 Months</td>\n",
       "      <td>Investment Banking, Risk Management, Financial...</td>\n",
       "      <td>4.8</td>\n",
       "      <td>30000</td>\n",
       "    </tr>\n",
       "    <tr>\n",
       "      <th>3</th>\n",
       "      <td>Business</td>\n",
       "      <td>Investment Risk Management</td>\n",
       "      <td>Coursera Project Network</td>\n",
       "      <td>Guided Project</td>\n",
       "      <td>Intermediate</td>\n",
       "      <td>Less Than 2 Hours</td>\n",
       "      <td>Investment Management, Risk Management, Financ...</td>\n",
       "      <td>4.4</td>\n",
       "      <td>1800</td>\n",
       "    </tr>\n",
       "    <tr>\n",
       "      <th>4</th>\n",
       "      <td>Business</td>\n",
       "      <td>Food &amp; Beverage Management</td>\n",
       "      <td>Università Bocconi</td>\n",
       "      <td>Course</td>\n",
       "      <td>Mixed</td>\n",
       "      <td>1 - 3 Months</td>\n",
       "      <td>Food and Beverage, Hospitality, Restaurant Man...</td>\n",
       "      <td>4.8</td>\n",
       "      <td>4800</td>\n",
       "    </tr>\n",
       "  </tbody>\n",
       "</table>\n",
       "</div>"
      ],
      "text/plain": [
       "    Subject                                   Title               Institution  \\\n",
       "0  Business  Business Analysis & Process Management  Coursera Project Network   \n",
       "1  Business    Getting Started with Microsoft Excel  Coursera Project Network   \n",
       "2  Business                       Financial Markets           Yale University   \n",
       "3  Business              Investment Risk Management  Coursera Project Network   \n",
       "4  Business              Food & Beverage Management        Università Bocconi   \n",
       "\n",
       "  Learning Product         Level           Duration  \\\n",
       "0   Guided Project      Beginner  Less Than 2 Hours   \n",
       "1   Guided Project  Intermediate  Less Than 2 Hours   \n",
       "2           Course      Beginner       1 - 3 Months   \n",
       "3   Guided Project  Intermediate  Less Than 2 Hours   \n",
       "4           Course         Mixed       1 - 3 Months   \n",
       "\n",
       "                                       Gained Skills  Rate  Reviews  \n",
       "0  Process Analysis, Business Process, Business A...   4.4     6100  \n",
       "1  Microsoft Excel, Excel Formulas, Spreadsheet S...   4.6    11000  \n",
       "2  Investment Banking, Risk Management, Financial...   4.8    30000  \n",
       "3  Investment Management, Risk Management, Financ...   4.4     1800  \n",
       "4  Food and Beverage, Hospitality, Restaurant Man...   4.8     4800  "
      ]
     },
     "execution_count": 28,
     "metadata": {},
     "output_type": "execute_result"
    }
   ],
   "source": [
    "coursera.head()"
   ]
  },
  {
   "cell_type": "code",
   "execution_count": 80,
   "id": "01287962-8077-4c01-8d1d-5f8aed6cb37a",
   "metadata": {},
   "outputs": [],
   "source": [
    "# go back to 6th dimention --> Completeness"
   ]
  },
  {
   "cell_type": "markdown",
   "id": "f7cee10f-0af8-44e5-b595-8e965294daad",
   "metadata": {},
   "source": [
    "### Correcting errors\n",
    "\n",
    "-------------------"
   ]
  },
  {
   "cell_type": "code",
   "execution_count": null,
   "id": "06273b88-a169-42e8-81f5-5d71cb3f9c21",
   "metadata": {},
   "outputs": [],
   "source": []
  },
  {
   "cell_type": "code",
   "execution_count": null,
   "id": "f1d95da5-a3ba-473a-8243-aa177cadae20",
   "metadata": {},
   "outputs": [],
   "source": [
    "# go back to 7th dimension Accuracy "
   ]
  },
  {
   "cell_type": "markdown",
   "id": "5ecc7dbb-6867-44cf-8f99-1b969a80be40",
   "metadata": {},
   "source": [
    "### Dealing with outliers:"
   ]
  },
  {
   "attachments": {},
   "cell_type": "markdown",
   "id": "88347887-4bdf-48af-9486-cb8fe80c97af",
   "metadata": {},
   "source": [
    "**How to remove Outliers?**\n",
    "Most of the ways to deal with outliers are similar to the methods of missing values like deleting rows, transforming them, binning them, treat them as a separate group, imputing values and other statistical methods. Here, we will discuss the common techniques used to deal with outliers:\n",
    "\n",
    "1. Deleting rows: We delete outlier values if it is due to data entry error, data processing error or outlier rows are very small in numbers. We can also use trimming at both ends to remove outliers.\n",
    "\n",
    "2. Imputing: Like imputation of missing values, we can also impute outliers. We can use mean, median, mode imputation methods. Before imputing values, we should analyse if it is natural outlier or artificial. If it is artificial, we can go with imputing values. We can also use statistical model to predict values of outlier rows and after that we can impute it with predicted values.\n",
    "\n",
    "3. Treat separately: If there are significant number of outliers, we should treat them separately in the statistical model. One of the approach is to treat both groups as two different groups and build individual model for both groups and then combine the output.\n"
   ]
  },
  {
   "cell_type": "code",
   "execution_count": null,
   "id": "25a585f0-2b9c-42fa-bf21-cacc6aa3be3f",
   "metadata": {},
   "outputs": [],
   "source": []
  },
  {
   "cell_type": "markdown",
   "id": "98548b66-e309-4eb8-a5dc-65fe0abbf1e8",
   "metadata": {},
   "source": [
    "## 3. Univariate Analysis: \n",
    "\n",
    "This involves examining single variables to understand their characteristics (distribution, central tendency, dispersion, and shape).\n",
    "\n",
    "We calculate **numerical values** about the data that tells us about the distribution of the data. We also **draw graphs** showing visually how the data is distributed. **To answer the following questions about Features/characteristics of Data:**\n",
    "- Where is the center of the data? (location)\n",
    "- How much does the data vary? (scale)\n",
    "- What is the shape of the data? (shape)\n",
    "\n",
    "**The benefits of this analysis:**\n",
    "Statistics summary gives a high-level idea to identify whether the data has any outliers, data entry error, distribution of data such as the data is normally distributed or left/right skewed\n",
    "\n",
    "**In this step, we will explore variables one by one using following approaches:**"
   ]
  },
  {
   "cell_type": "markdown",
   "id": "d6718111-7ac2-4fff-9851-654655b62e0b",
   "metadata": {},
   "source": [
    "### 1. Univariate Graphical Analysis:\n",
    "Method to perform uni-variate analysis will depend on whether the variable type is categorical or numerical."
   ]
  },
  {
   "cell_type": "code",
   "execution_count": 29,
   "id": "db79d803-b75c-4686-a623-e8420321a90f",
   "metadata": {},
   "outputs": [
    {
     "data": {
      "image/png": "[encoded data removed]",
      "text/plain": [
       "<Figure size 800x400 with 1 Axes>"
      ]
     },
     "metadata": {},
     "output_type": "display_data"
    }
   ],
   "source": [
    "import seaborn as sns\n",
    "import matplotlib.pyplot as plt\n",
    "\n",
    "\n",
    "plt.figure(figsize=(8, 4))\n",
    "\n",
    "# Create a vertical count plot\n",
    "sns.countplot(data=coursera, x='Subject', order=coursera['Subject'].value_counts().index)\n",
    "\n",
    "plt.title('Number of Courses by Subject')\n",
    "plt.xlabel('Subject')\n",
    "plt.ylabel('Count')\n",
    "\n",
    "plt.show()"
   ]
  },
  {
   "cell_type": "code",
   "execution_count": 31,
   "id": "970c6e4d",
   "metadata": {},
   "outputs": [
    {
     "data": {
      "image/png": "[encoded data removed]",
      "text/plain": [
       "<Figure size 1000x500 with 1 Axes>"
      ]
     },
     "metadata": {},
     "output_type": "display_data"
    }
   ],
   "source": [
    "import matplotlib.pyplot as plt\n",
    "import pandas as pd\n",
    "from collections import Counter\n",
    "import re\n",
    "\n",
    "# Combine all course titles into a single string\n",
    "titles_text = ' '.join(coursera['Title'])\n",
    "\n",
    "# Tokenize words and remove special characters\n",
    "words = re.findall(r'\\b\\w+\\b', titles_text.lower())  # Convert to lowercase and extract words\n",
    "\n",
    "# Define stopwords to remove common words that add no meaning\n",
    "stopwords = set([\"the\", \"and\", \"in\", \"to\", \"for\", \"of\", \"on\", \"with\", \"a\", \"by\"])  # Add more if needed\n",
    "filtered_words = [word for word in words if word not in stopwords]\n",
    "\n",
    "# Count word frequency\n",
    "word_counts = Counter(filtered_words)\n",
    "\n",
    "# Get the top 10 most common words\n",
    "top_10_words = word_counts.most_common(10)\n",
    "\n",
    "# Convert to DataFrame for easy plotting\n",
    "df_top_words = pd.DataFrame(top_10_words, columns=['Word', 'Count'])\n",
    "\n",
    "# Plot the top 10 words\n",
    "plt.figure(figsize=(10, 5))\n",
    "plt.barh(df_top_words['Word'], df_top_words['Count'], color='skyblue')\n",
    "plt.gca().invert_yaxis()  # Ensures the highest count is on top\n",
    "plt.xlabel('Count')\n",
    "plt.ylabel('Word')\n",
    "plt.title('Top 10 Most Common Words in Course Titles')\n",
    "\n",
    "plt.show()"
   ]
  },
  {
   "cell_type": "code",
   "execution_count": 33,
   "id": "12f13a25",
   "metadata": {},
   "outputs": [
    {
     "data": {
      "image/png": "[encoded data removed]",
      "text/plain": [
       "<Figure size 1000x600 with 1 Axes>"
      ]
     },
     "metadata": {},
     "output_type": "display_data"
    }
   ],
   "source": [
    "# Get the top 10 institutions\n",
    "top_10_institutions = coursera['Institution'].value_counts().nlargest(10).index\n",
    "\n",
    "\n",
    "plt.figure(figsize=(10, 6))\n",
    "\n",
    "# Create a count plot for the top 10 institutions\n",
    "sns.countplot(data=coursera[coursera['Institution'].isin(top_10_institutions)], \n",
    "              y='Institution', \n",
    "              order=top_10_institutions)\n",
    "\n",
    "\n",
    "plt.title('Top 10 Institutions with Most Courses')\n",
    "plt.xlabel('Count')\n",
    "plt.ylabel('Institution')\n",
    "\n",
    "\n",
    "plt.show()"
   ]
  },
  {
   "cell_type": "markdown",
   "id": "b5bf5d9c",
   "metadata": {},
   "source": [
    "IBM offers the most courses, making it a leader in online education.\n",
    "Coursera Project Network ranks second, indicating a high number of hands-on learning projects.\n",
    "Top universities like Michigan, Colorado Boulder, and Johns Hopkins are among the biggest contributors.\n",
    "Tech giants Microsoft and Google also provide many courses, showing the industry's focus on education.\n",
    "DeepLearning.AI specializes in AI courses, reinforcing the demand for AI and machine learning skills."
   ]
  },
  {
   "cell_type": "code",
   "execution_count": 34,
   "id": "7235cfb3",
   "metadata": {},
   "outputs": [
    {
     "data": {
      "image/png": "[encoded data removed]",
      "text/plain": [
       "<Figure size 1000x600 with 1 Axes>"
      ]
     },
     "metadata": {},
     "output_type": "display_data"
    }
   ],
   "source": [
    "import seaborn as sns\n",
    "import matplotlib.pyplot as plt\n",
    "\n",
    "# Get the bottom 10 institutions with the least courses\n",
    "bottom_10_institutions = coursera['Institution'].value_counts().nsmallest(10).index\n",
    "\n",
    "plt.figure(figsize=(10, 6))\n",
    "\n",
    "# Create a count plot for the bottom 10 institutions\n",
    "sns.countplot(data=coursera[coursera['Institution'].isin(bottom_10_institutions)], \n",
    "              y='Institution', \n",
    "              order=bottom_10_institutions)\n",
    "\n",
    "plt.title('Bottom 10 Institutions with Fewest Courses')\n",
    "plt.xlabel('Count')\n",
    "plt.ylabel('Institution')\n",
    "\n",
    "plt.show()"
   ]
  },
  {
   "cell_type": "code",
   "execution_count": 35,
   "id": "712f83f1",
   "metadata": {},
   "outputs": [
    {
     "data": {
      "image/png": "[encoded data removed]",
      "text/plain": [
       "<Figure size 1000x600 with 1 Axes>"
      ]
     },
     "metadata": {},
     "output_type": "display_data"
    }
   ],
   "source": [
    "import matplotlib.pyplot as plt\n",
    "\n",
    "\n",
    "skills_list = coursera['Gained Skills'].str.split(', ').explode()\n",
    "skills_count = skills_list.value_counts()\n",
    "\n",
    "# Plot top 10 skills with the highest count at the top\n",
    "plt.figure(figsize=(10, 6))\n",
    "skills_count.head(10).sort_values(ascending=True).plot(kind='barh')\n",
    "\n",
    "\n",
    "plt.title('Top 10 Skills Gained For All Courses')\n",
    "plt.xlabel('Count')\n",
    "plt.ylabel('Skill')\n",
    "\n",
    "plt.show()\n"
   ]
  },
  {
   "cell_type": "code",
   "execution_count": 36,
   "id": "aef40aa2",
   "metadata": {},
   "outputs": [
    {
     "data": {
      "image/png": "[encoded data removed]",
      "text/plain": [
       "<Figure size 800x600 with 1 Axes>"
      ]
     },
     "metadata": {},
     "output_type": "display_data"
    }
   ],
   "source": [
    "plt.figure(figsize=(8, 6))\n",
    "sns.histplot(coursera['Rate'], bins=10, kde=True)\n",
    "plt.title('Distribution of Course Ratings')\n",
    "plt.xlabel('Rating')\n",
    "plt.ylabel('Frequency')\n",
    "plt.show()"
   ]
  },
  {
   "cell_type": "code",
   "execution_count": 37,
   "id": "96535c04",
   "metadata": {},
   "outputs": [
    {
     "data": {
      "image/png": "[encoded data removed]",
      "text/plain": [
       "<Figure size 800x600 with 1 Axes>"
      ]
     },
     "metadata": {},
     "output_type": "display_data"
    }
   ],
   "source": [
    "plt.figure(figsize=(8, 6))\n",
    "sns.histplot(coursera['Reviews'], bins=10, kde=True)\n",
    "plt.title('Distribution of Number of Reviews')\n",
    "plt.xlabel('Number of Reviews')\n",
    "plt.ylabel('Frequency')\n",
    "plt.show()"
   ]
  },
  {
   "cell_type": "code",
   "execution_count": 38,
   "id": "823229ea",
   "metadata": {},
   "outputs": [
    {
     "data": {
      "image/png": "[encoded data removed]",
      "text/plain": [
       "<Figure size 800x600 with 1 Axes>"
      ]
     },
     "metadata": {},
     "output_type": "display_data"
    }
   ],
   "source": [
    "plt.figure(figsize=(8, 6))\n",
    "sns.countplot(data=coursera, x='Level', order=coursera['Level'].value_counts().index)\n",
    "\n",
    "plt.title('Number of Courses by Level')\n",
    "plt.xlabel('Count')\n",
    "plt.ylabel('Level')\n",
    "plt.show()"
   ]
  },
  {
   "cell_type": "code",
   "execution_count": 39,
   "id": "ba2f9286",
   "metadata": {},
   "outputs": [
    {
     "data": {
      "image/png": "[encoded data removed]",
      "text/plain": [
       "<Figure size 600x400 with 1 Axes>"
      ]
     },
     "metadata": {},
     "output_type": "display_data"
    }
   ],
   "source": [
    "plt.figure(figsize=(6, 4))\n",
    "sns.countplot(data=coursera, x='Learning Product', order=coursera['Learning Product'].value_counts().index)\n",
    "plt.xticks(rotation=45, ha=\"right\")\n",
    "plt.title('Number of Courses by Learning Product Type')\n",
    "plt.xlabel('Count')\n",
    "plt.ylabel('Learning Product')\n",
    "plt.show()"
   ]
  },
  {
   "cell_type": "code",
   "execution_count": 40,
   "id": "d041293a",
   "metadata": {},
   "outputs": [
    {
     "data": {
      "image/png": "[encoded data removed]",
      "text/plain": [
       "<Figure size 800x600 with 1 Axes>"
      ]
     },
     "metadata": {},
     "output_type": "display_data"
    }
   ],
   "source": [
    "plt.figure(figsize=(8, 6))\n",
    "sns.countplot(data=coursera, x='Duration', order=coursera['Duration'].value_counts().index)\n",
    "plt.title('Number of Courses by Duration')\n",
    "plt.xlabel('Count')\n",
    "plt.ylabel('Duration')\n",
    "plt.show()"
   ]
  },
  {
   "cell_type": "code",
   "execution_count": 41,
   "id": "015de183",
   "metadata": {},
   "outputs": [
    {
     "data": {
      "image/png": "[encoded data removed]",
      "text/plain": [
       "<Figure size 800x600 with 1 Axes>"
      ]
     },
     "metadata": {},
     "output_type": "display_data"
    }
   ],
   "source": [
    "plt.figure(figsize=(8, 6))\n",
    "sns.scatterplot(data=coursera, x='Rate', y='Reviews')\n",
    "plt.title('Relationship Between Ratings and Reviews')\n",
    "plt.xlabel('Rating')\n",
    "plt.ylabel('Number of Reviews')\n",
    "plt.show()"
   ]
  },
  {
   "cell_type": "markdown",
   "id": "0d57c4b9-9bb3-494d-85dd-b8d39afda139",
   "metadata": {},
   "source": [
    "#### I. Categorical Variables:\n",
    "\n",
    "we’ll use frequency table to understand distribution of each category\n",
    "- Bar Chart (Ordinal) - Orderd\n",
    "- Pie Chart (Nominal) - non Orderd"
   ]
  },
  {
   "cell_type": "code",
   "execution_count": null,
   "id": "72ece4b7-5508-403a-8fb0-f519fc74272a",
   "metadata": {},
   "outputs": [],
   "source": []
  },
  {
   "cell_type": "markdown",
   "id": "d2641f0d-80f2-493b-99b7-15476379a1e2",
   "metadata": {},
   "source": [
    "#### II. Numerical Variables:\n",
    "\n",
    "we need to understand the central tendency and spread of the variable (Descriptive Analysis) using:\n",
    "   - Box plot\n",
    "   - Histogram"
   ]
  },
  {
   "cell_type": "code",
   "execution_count": null,
   "id": "5be16f08-a072-4a02-a3ee-6f9d57786fb4",
   "metadata": {},
   "outputs": [],
   "source": []
  },
  {
   "cell_type": "markdown",
   "id": "d66677d3-44ad-414f-9b39-f9c1995ad043",
   "metadata": {},
   "source": [
    "### 2. Univariate Non-Graphical analysis: \n",
    "\n",
    "- Where is the center of the data? (location) --> **Measures of central tendency**\n",
    "- How much does the data vary? (scale) --> **Measure of variability**\n",
    "- What is the shape of the data? (shape) --> **Measures of variation combined with an average (measure of center) gives a good picture of the distribution of the data.**"
   ]
  },
  {
   "cell_type": "code",
   "execution_count": null,
   "id": "f1058d84-e61e-4f5b-b66a-29931e77821b",
   "metadata": {},
   "outputs": [],
   "source": []
  },
  {
   "cell_type": "markdown",
   "id": "f09bb809-0edd-432b-bf23-abd0840b3e16",
   "metadata": {},
   "source": [
    "## 4. Bivariate/Multivariate Analysis:\n",
    "\n",
    "Here, you look at the relationships between two or more variables. This can involve looking for correlations, patterns, and trends that suggest a relationship or an association.\n",
    "\n",
    "We can perform bi-variate analysis for any combination of categorical and numerical variables. The combination can be:\n",
    "| bi-variate variables   | Plot type |\n",
    "| ------------- | ------------- |\n",
    "| Categorical & Categorical| Stacked Bar Chart |\n",
    "| Categorical & numerical  | scatter plot, histogram, box plot|\n",
    "| numerical  & numerical  | Scatter plot, line chart| \n",
    "\n",
    "\n",
    "Multivariate Analysis:\n",
    "- Heat map\n",
    "- Bar Chart\n",
    "- Scatter Chart\n",
    "- Line Chart"
   ]
  },
  {
   "cell_type": "markdown",
   "id": "838f2864-ce9e-4f15-99c8-052d053154a7",
   "metadata": {},
   "source": [
    "**Categorical & Categorical --> (Stacked Column Chart)**"
   ]
  },
  {
   "cell_type": "code",
   "execution_count": null,
   "id": "73f9f2ac-8477-49ea-9c68-4fe44d4395b6",
   "metadata": {},
   "outputs": [],
   "source": []
  },
  {
   "cell_type": "markdown",
   "id": "730e088f-fe13-40da-8fbb-686f5135fa4d",
   "metadata": {},
   "source": [
    "**Categorical & numerical --> (scatter plot, histogram, box plot)**"
   ]
  },
  {
   "cell_type": "code",
   "execution_count": null,
   "id": "3590e345-2051-4215-91ac-07d196b510ef",
   "metadata": {},
   "outputs": [],
   "source": []
  },
  {
   "cell_type": "markdown",
   "id": "20aed48d-b78e-46da-963f-e7f15e2f4dc7",
   "metadata": {},
   "source": [
    "**numerical & numerical --> (Scatter plot, line chart)**"
   ]
  },
  {
   "cell_type": "code",
   "execution_count": null,
   "id": "41023177-01cb-4f39-a750-12be71b13bda",
   "metadata": {},
   "outputs": [],
   "source": []
  },
  {
   "cell_type": "markdown",
   "id": "efb43b30-b1f0-48a4-a19c-195810cc8a0f",
   "metadata": {},
   "source": [
    "We could also use a correlation matrix to get more specific information about the relationship between these two variables."
   ]
  },
  {
   "cell_type": "code",
   "execution_count": null,
   "id": "8406f58f-b825-4a15-8f6e-c68ca66bd483",
   "metadata": {},
   "outputs": [],
   "source": []
  }
 ],
 "metadata": {
  "kernelspec": {
   "display_name": "Python 3",
   "language": "python",
   "name": "python3"
  },
  "language_info": {
   "codemirror_mode": {
    "name": "ipython",
    "version": 3
   },
   "file_extension": ".py",
   "mimetype": "text/x-python",
   "name": "python",
   "nbconvert_exporter": "python",
   "pygments_lexer": "ipython3",
   "version": "3.8.6"
  }
 },
 "nbformat": 4,
 "nbformat_minor": 5
}
